{
 "cells": [
  {
   "cell_type": "code",
   "execution_count": 1,
   "metadata": {},
   "outputs": [
    {
     "name": "stdout",
     "output_type": "stream",
     "text": [
      "2024-10-14 20:35:15,983 WARNING: DeprecationWarning: Type google._upb._message.MessageMapContainer uses PyType_Spec with a metaclass that has custom tp_new. This is deprecated and will no longer be allowed in Python 3.14.\n",
      "\n",
      "2024-10-14 20:35:15,984 WARNING: DeprecationWarning: Type google._upb._message.ScalarMapContainer uses PyType_Spec with a metaclass that has custom tp_new. This is deprecated and will no longer be allowed in Python 3.14.\n",
      "\n"
     ]
    },
    {
     "data": {
      "text/plain": [
       "True"
      ]
     },
     "execution_count": 1,
     "metadata": {},
     "output_type": "execute_result"
    }
   ],
   "source": [
    "#Importing necessary librabries\n",
    "from dotenv import load_dotenv \n",
    "import os \n",
    "from alpha_vantage.timeseries import TimeSeries\n",
    "import pandas as pd\n",
    "import hopsworks\n",
    "import re \n",
    "import modal \n",
    "#prepocessing\n",
    "import requests\n",
    "import json\n",
    "#import pandas_market_calendars as mcal\n",
    "import datetime\n",
    "import numpy as np\n",
    "from datetime import timedelta\n",
    "load_dotenv()   #Making the .env file work"
   ]
  },
  {
   "cell_type": "code",
   "execution_count": 9,
   "metadata": {},
   "outputs": [
    {
     "name": "stdout",
     "output_type": "stream",
     "text": [
      "            1. open   2. high    3. low  4. close   5. volume ticker\n",
      "date                                                                \n",
      "2024-10-04  166.533  171.2100  164.4200    170.90  44640296.0    AMD\n",
      "2024-10-03  159.710  166.7894  159.4000    162.85  29598787.0    AMD\n",
      "2024-10-02  159.310  163.1000  158.6689    159.78  24630431.0    AMD\n",
      "2024-10-01  164.480  165.4000  158.0800    159.75  31831860.0    AMD\n",
      "2024-09-30  163.100  165.0800  162.1800    164.08  21920300.0    AMD\n"
     ]
    }
   ],
   "source": [
    "#Setting up API key to being able to fetch stocks from Alpha Vantage\n",
    "\n",
    "api_key = os.environ.get('STOCK_API') \n",
    "ts = TimeSeries(key=api_key, output_format='pandas')\n",
    "\n",
    "#Defining a function to fetch stocks\n",
    "\n",
    "def fetch_stock_prices(symbol):\n",
    "    # Fetch daily adjusted stock prices; adjust the symbol as needed\n",
    "    data, meta_data = ts.get_daily(symbol=symbol, outputsize='full')\n",
    "    \n",
    "    # Add a new column named 'ticker' and fill it with the ticker name\n",
    "    data['ticker'] = symbol\n",
    "    \n",
    "    return data\n",
    "\n",
    "#Usage\n",
    "symbol = 'AMD'\n",
    "stock_data = fetch_stock_prices(symbol)\n",
    "print(stock_data.head())"
   ]
  },
  {
   "cell_type": "code",
   "execution_count": 10,
   "metadata": {},
   "outputs": [
    {
     "name": "stdout",
     "output_type": "stream",
     "text": [
      "Data saved to AMD_stock_prices.csv\n"
     ]
    }
   ],
   "source": [
    "# Defining the file path and name\n",
    "file_path = 'AMD_stock_prices.csv'  \n",
    "\n",
    "# Saving the DataFrame to CSV\n",
    "stock_data.to_csv(file_path)\n",
    "\n",
    "print(f\"Data saved to {file_path}\")"
   ]
  }
 ],
 "metadata": {
  "kernelspec": {
   "display_name": "Python 3",
   "language": "python",
   "name": "python3"
  },
  "language_info": {
   "codemirror_mode": {
    "name": "ipython",
    "version": 3
   },
   "file_extension": ".py",
   "mimetype": "text/x-python",
   "name": "python",
   "nbconvert_exporter": "python",
   "pygments_lexer": "ipython3",
   "version": "3.12.7"
  }
 },
 "nbformat": 4,
 "nbformat_minor": 2
}
