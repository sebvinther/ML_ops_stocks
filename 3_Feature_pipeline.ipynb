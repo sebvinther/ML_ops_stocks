{
 "cells": [
  {
   "cell_type": "code",
   "execution_count": 1,
   "metadata": {},
   "outputs": [
    {
     "name": "stdout",
     "output_type": "stream",
     "text": [
      "Connected. Call `.close()` to terminate connection gracefully.\n",
      "\n",
      "Logged in to project, explore it here https://c.app.hopsworks.ai:443/p/564374\n",
      "2024-10-13 10:47:43,148 WARNING: using legacy validation callback\n",
      "Connected. Call `.close()` to terminate connection gracefully.\n"
     ]
    }
   ],
   "source": [
    "# Import necessary libraries\n",
    "import pandas as pd               \n",
    "import numpy as np                \n",
    "import matplotlib.pyplot as plt   \n",
    "import os                         \n",
    "import joblib                     \n",
    "import hopsworks                  \n",
    "import re\n",
    "\n",
    "# Import specific modules from scikit-learn\n",
    "from sklearn.preprocessing import StandardScaler, OneHotEncoder   # For data preprocessing\n",
    "from sklearn.metrics import accuracy_score                        # For evaluating model accuracy\n",
    "\n",
    "from dotenv import load_dotenv\n",
    "import os\n",
    "load_dotenv()\n",
    "\n",
    "#Connecting to hopsworks\n",
    "api_key = os.environ.get('HOPSWORKS_API')\n",
    "project = hopsworks.login(api_key_value=api_key)\n",
    "fs = project.get_feature_store()"
   ]
  },
  {
   "cell_type": "code",
   "execution_count": 2,
   "metadata": {},
   "outputs": [
    {
     "name": "stdout",
     "output_type": "stream",
     "text": [
      "         date  1. open   2. high    3. low  4. close   5. volume ticker\n",
      "0  2024-10-04  166.533  171.2100  164.4200    170.90  44640296.0    AMD\n",
      "1  2024-10-03  159.710  166.7894  159.4000    162.85  29598787.0    AMD\n",
      "2  2024-10-02  159.310  163.1000  158.6689    159.78  24630431.0    AMD\n",
      "3  2024-10-01  164.480  165.4000  158.0800    159.75  31831860.0    AMD\n",
      "4  2024-09-30  163.100  165.0800  162.1800    164.08  21920300.0    AMD\n"
     ]
    }
   ],
   "source": [
    "# Load and display the data from CSV to get an overview of the actual data - confirming the values\n",
    "amd_df = pd.read_csv('AMD_stock_prices.csv')\n",
    "print(amd_df.head())    "
   ]
  },
  {
   "cell_type": "code",
   "execution_count": 3,
   "metadata": {},
   "outputs": [
    {
     "data": {
      "text/html": [
       "<div>\n",
       "<style scoped>\n",
       "    .dataframe tbody tr th:only-of-type {\n",
       "        vertical-align: middle;\n",
       "    }\n",
       "\n",
       "    .dataframe tbody tr th {\n",
       "        vertical-align: top;\n",
       "    }\n",
       "\n",
       "    .dataframe thead th {\n",
       "        text-align: right;\n",
       "    }\n",
       "</style>\n",
       "<table border=\"1\" class=\"dataframe\">\n",
       "  <thead>\n",
       "    <tr style=\"text-align: right;\">\n",
       "      <th></th>\n",
       "      <th>date</th>\n",
       "      <th>1. open</th>\n",
       "      <th>2. high</th>\n",
       "      <th>3. low</th>\n",
       "      <th>4. close</th>\n",
       "      <th>5. volume</th>\n",
       "      <th>ticker</th>\n",
       "    </tr>\n",
       "  </thead>\n",
       "  <tbody>\n",
       "    <tr>\n",
       "      <th>0</th>\n",
       "      <td>2024-10-04</td>\n",
       "      <td>166.533</td>\n",
       "      <td>171.2100</td>\n",
       "      <td>164.4200</td>\n",
       "      <td>170.90</td>\n",
       "      <td>44640296.0</td>\n",
       "      <td>AMD</td>\n",
       "    </tr>\n",
       "    <tr>\n",
       "      <th>1</th>\n",
       "      <td>2024-10-03</td>\n",
       "      <td>159.710</td>\n",
       "      <td>166.7894</td>\n",
       "      <td>159.4000</td>\n",
       "      <td>162.85</td>\n",
       "      <td>29598787.0</td>\n",
       "      <td>AMD</td>\n",
       "    </tr>\n",
       "    <tr>\n",
       "      <th>2</th>\n",
       "      <td>2024-10-02</td>\n",
       "      <td>159.310</td>\n",
       "      <td>163.1000</td>\n",
       "      <td>158.6689</td>\n",
       "      <td>159.78</td>\n",
       "      <td>24630431.0</td>\n",
       "      <td>AMD</td>\n",
       "    </tr>\n",
       "    <tr>\n",
       "      <th>3</th>\n",
       "      <td>2024-10-01</td>\n",
       "      <td>164.480</td>\n",
       "      <td>165.4000</td>\n",
       "      <td>158.0800</td>\n",
       "      <td>159.75</td>\n",
       "      <td>31831860.0</td>\n",
       "      <td>AMD</td>\n",
       "    </tr>\n",
       "    <tr>\n",
       "      <th>4</th>\n",
       "      <td>2024-09-30</td>\n",
       "      <td>163.100</td>\n",
       "      <td>165.0800</td>\n",
       "      <td>162.1800</td>\n",
       "      <td>164.08</td>\n",
       "      <td>21920300.0</td>\n",
       "      <td>AMD</td>\n",
       "    </tr>\n",
       "    <tr>\n",
       "      <th>...</th>\n",
       "      <td>...</td>\n",
       "      <td>...</td>\n",
       "      <td>...</td>\n",
       "      <td>...</td>\n",
       "      <td>...</td>\n",
       "      <td>...</td>\n",
       "      <td>...</td>\n",
       "    </tr>\n",
       "    <tr>\n",
       "      <th>6267</th>\n",
       "      <td>1999-11-05</td>\n",
       "      <td>20.750</td>\n",
       "      <td>21.3800</td>\n",
       "      <td>20.2500</td>\n",
       "      <td>21.25</td>\n",
       "      <td>2148000.0</td>\n",
       "      <td>AMD</td>\n",
       "    </tr>\n",
       "    <tr>\n",
       "      <th>6268</th>\n",
       "      <td>1999-11-04</td>\n",
       "      <td>21.130</td>\n",
       "      <td>21.3100</td>\n",
       "      <td>19.9400</td>\n",
       "      <td>20.63</td>\n",
       "      <td>2415000.0</td>\n",
       "      <td>AMD</td>\n",
       "    </tr>\n",
       "    <tr>\n",
       "      <th>6269</th>\n",
       "      <td>1999-11-03</td>\n",
       "      <td>20.690</td>\n",
       "      <td>21.5000</td>\n",
       "      <td>20.5600</td>\n",
       "      <td>21.31</td>\n",
       "      <td>2236000.0</td>\n",
       "      <td>AMD</td>\n",
       "    </tr>\n",
       "    <tr>\n",
       "      <th>6270</th>\n",
       "      <td>1999-11-02</td>\n",
       "      <td>20.310</td>\n",
       "      <td>20.8100</td>\n",
       "      <td>20.3100</td>\n",
       "      <td>20.56</td>\n",
       "      <td>1898100.0</td>\n",
       "      <td>AMD</td>\n",
       "    </tr>\n",
       "    <tr>\n",
       "      <th>6271</th>\n",
       "      <td>1999-11-01</td>\n",
       "      <td>19.940</td>\n",
       "      <td>20.4400</td>\n",
       "      <td>19.8800</td>\n",
       "      <td>20.31</td>\n",
       "      <td>1563700.0</td>\n",
       "      <td>AMD</td>\n",
       "    </tr>\n",
       "  </tbody>\n",
       "</table>\n",
       "<p>6272 rows × 7 columns</p>\n",
       "</div>"
      ],
      "text/plain": [
       "            date  1. open   2. high    3. low  4. close   5. volume ticker\n",
       "0     2024-10-04  166.533  171.2100  164.4200    170.90  44640296.0    AMD\n",
       "1     2024-10-03  159.710  166.7894  159.4000    162.85  29598787.0    AMD\n",
       "2     2024-10-02  159.310  163.1000  158.6689    159.78  24630431.0    AMD\n",
       "3     2024-10-01  164.480  165.4000  158.0800    159.75  31831860.0    AMD\n",
       "4     2024-09-30  163.100  165.0800  162.1800    164.08  21920300.0    AMD\n",
       "...          ...      ...       ...       ...       ...         ...    ...\n",
       "6267  1999-11-05   20.750   21.3800   20.2500     21.25   2148000.0    AMD\n",
       "6268  1999-11-04   21.130   21.3100   19.9400     20.63   2415000.0    AMD\n",
       "6269  1999-11-03   20.690   21.5000   20.5600     21.31   2236000.0    AMD\n",
       "6270  1999-11-02   20.310   20.8100   20.3100     20.56   1898100.0    AMD\n",
       "6271  1999-11-01   19.940   20.4400   19.8800     20.31   1563700.0    AMD\n",
       "\n",
       "[6272 rows x 7 columns]"
      ]
     },
     "execution_count": 3,
     "metadata": {},
     "output_type": "execute_result"
    }
   ],
   "source": [
    "amd_df"
   ]
  },
  {
   "cell_type": "code",
   "execution_count": 4,
   "metadata": {},
   "outputs": [],
   "source": [
    "# Converting the \"date\" column to timestamp\n",
    "amd_df['date'] = pd.to_datetime(amd_df['date'])"
   ]
  },
  {
   "cell_type": "code",
   "execution_count": 5,
   "metadata": {},
   "outputs": [
    {
     "name": "stdout",
     "output_type": "stream",
     "text": [
      "Cleaned column names:\n",
      "['date', 'f_1__open', 'f_2__high', 'f_3__low', 'f_4__close', 'f_5__volume', 'ticker']\n"
     ]
    }
   ],
   "source": [
    "import re\n",
    "\n",
    "# Function to clean column names\n",
    "def clean_column_name(col):\n",
    "    # Convert to lowercase\n",
    "    col = col.lower()\n",
    "    # Replace any invalid characters with an underscore\n",
    "    col = re.sub(r'[^a-z0-9_]', '_', col)\n",
    "    # If the column name doesn't start with a letter, prefix it with 'f_'\n",
    "    if not re.match(r'^[a-z]', col):\n",
    "        col = 'f_' + col\n",
    "    return col\n",
    "\n",
    "# Apply the function to all column names\n",
    "amd_df.columns = [clean_column_name(col) for col in amd_df.columns]\n",
    "\n",
    "print(\"Cleaned column names:\")\n",
    "print(amd_df.columns.tolist())\n"
   ]
  },
  {
   "cell_type": "code",
   "execution_count": 7,
   "metadata": {},
   "outputs": [
    {
     "name": "stdout",
     "output_type": "stream",
     "text": [
      "Feature Group created successfully, explore it at \n",
      "https://c.app.hopsworks.ai:443/p/564374/fs/560197/fg/1273172\n"
     ]
    },
    {
     "data": {
      "application/vnd.jupyter.widget-view+json": {
       "model_id": "f6661fa5fe1542c4a72a3a00dcb9ee57",
       "version_major": 2,
       "version_minor": 0
      },
      "text/plain": [
       "Uploading Dataframe: 0.00% |          | Rows 0/6272 | Elapsed Time: 00:00 | Remaining Time: ?"
      ]
     },
     "metadata": {},
     "output_type": "display_data"
    },
    {
     "name": "stdout",
     "output_type": "stream",
     "text": [
      "Launching job: amd_stock_8_offline_fg_materialization\n",
      "Job started successfully, you can follow the progress at \n",
      "https://c.app.hopsworks.ai/p/564374/jobs/named/amd_stock_8_offline_fg_materialization/executions\n",
      "\n",
      "Data inserted successfully into the feature group.\n"
     ]
    }
   ],
   "source": [
    "# version 7 for the new feature group\n",
    "amd_fg = fs.create_feature_group(\n",
    "    name=\"amd_stock\",\n",
    "    description=\"AMD stock dataset from Alpha Vantage\",\n",
    "    version=8,  # Use the new version number\n",
    "    primary_key=[\"ticker\"],\n",
    "    event_time=\"date\",\n",
    "    online_enabled=False,\n",
    ")\n",
    "\n",
    "# Insert data into the new feature group\n",
    "#amd_fg.insert(amd_df, write_options={\"wait_for_job\": False})\n",
    "try:\n",
    "    amd_fg.insert(amd_df, write_options={\"wait_for_job\": False})\n",
    "    print(\"\\nData inserted successfully into the feature group.\")\n",
    "except Exception as e:\n",
    "    print(f\"\\nError inserting data into feature group: {e}\")\n"
   ]
  }
 ],
 "metadata": {
  "kernelspec": {
   "display_name": "Python 3",
   "language": "python",
   "name": "python3"
  },
  "language_info": {
   "codemirror_mode": {
    "name": "ipython",
    "version": 3
   },
   "file_extension": ".py",
   "mimetype": "text/x-python",
   "name": "python",
   "nbconvert_exporter": "python",
   "pygments_lexer": "ipython3",
   "version": "3.12.7"
  }
 },
 "nbformat": 4,
 "nbformat_minor": 2
}
