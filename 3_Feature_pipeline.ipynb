{
 "cells": [
  {
   "cell_type": "code",
   "execution_count": 16,
   "metadata": {},
   "outputs": [
    {
     "name": "stdout",
     "output_type": "stream",
     "text": [
      "Connection closed.\n",
      "Connected. Call `.close()` to terminate connection gracefully.\n",
      "\n",
      "Logged in to project, explore it here https://c.app.hopsworks.ai:443/p/564374\n",
      "Connected. Call `.close()` to terminate connection gracefully.\n"
     ]
    }
   ],
   "source": [
    "# Import necessary libraries\n",
    "import pandas as pd               \n",
    "import numpy as np                \n",
    "import matplotlib.pyplot as plt   \n",
    "import os                         \n",
    "import joblib                     \n",
    "import hopsworks                  \n",
    "import re\n",
    "\n",
    "# Import specific modules from scikit-learn\n",
    "from sklearn.preprocessing import StandardScaler, OneHotEncoder   # For data preprocessing\n",
    "from sklearn.metrics import accuracy_score                        # For evaluating model accuracy\n",
    "\n",
    "from dotenv import load_dotenv\n",
    "import os\n",
    "load_dotenv()\n",
    "\n",
    "#Connecting to hopsworks\n",
    "api_key = os.environ.get('HOPSWORKS_API')\n",
    "project = hopsworks.login(api_key_value=api_key)\n",
    "fs = project.get_feature_store()"
   ]
  },
  {
   "cell_type": "code",
   "execution_count": 17,
   "metadata": {},
   "outputs": [
    {
     "name": "stdout",
     "output_type": "stream",
     "text": [
      "         date  1. open  2. high    3. low  4. close   5. volume ticker\n",
      "0  2024-10-14  167.770   168.90  165.1500    165.27  31757205.0    AMD\n",
      "1  2024-10-11  164.185   169.35  163.0101    167.89  42136175.0    AMD\n",
      "2  2024-10-10  169.760   172.01  162.0000    164.18  75113590.0    AMD\n",
      "3  2024-10-09  174.050   174.05  169.5500    171.02  33890735.0    AMD\n",
      "4  2024-10-08  171.750   173.60  170.0000    172.80  34730152.0    AMD\n"
     ]
    }
   ],
   "source": [
    "# Load and display the data from CSV to get an overview of the actual data - confirming the values\n",
    "amd_df = pd.read_csv('AMD_stock_prices.csv')\n",
    "print(amd_df.head())    "
   ]
  },
  {
   "cell_type": "code",
   "execution_count": 18,
   "metadata": {},
   "outputs": [
    {
     "data": {
      "text/html": [
       "<div>\n",
       "<style scoped>\n",
       "    .dataframe tbody tr th:only-of-type {\n",
       "        vertical-align: middle;\n",
       "    }\n",
       "\n",
       "    .dataframe tbody tr th {\n",
       "        vertical-align: top;\n",
       "    }\n",
       "\n",
       "    .dataframe thead th {\n",
       "        text-align: right;\n",
       "    }\n",
       "</style>\n",
       "<table border=\"1\" class=\"dataframe\">\n",
       "  <thead>\n",
       "    <tr style=\"text-align: right;\">\n",
       "      <th></th>\n",
       "      <th>date</th>\n",
       "      <th>1. open</th>\n",
       "      <th>2. high</th>\n",
       "      <th>3. low</th>\n",
       "      <th>4. close</th>\n",
       "      <th>5. volume</th>\n",
       "      <th>ticker</th>\n",
       "    </tr>\n",
       "  </thead>\n",
       "  <tbody>\n",
       "    <tr>\n",
       "      <th>0</th>\n",
       "      <td>2024-10-14</td>\n",
       "      <td>167.770</td>\n",
       "      <td>168.90</td>\n",
       "      <td>165.1500</td>\n",
       "      <td>165.27</td>\n",
       "      <td>31757205.0</td>\n",
       "      <td>AMD</td>\n",
       "    </tr>\n",
       "    <tr>\n",
       "      <th>1</th>\n",
       "      <td>2024-10-11</td>\n",
       "      <td>164.185</td>\n",
       "      <td>169.35</td>\n",
       "      <td>163.0101</td>\n",
       "      <td>167.89</td>\n",
       "      <td>42136175.0</td>\n",
       "      <td>AMD</td>\n",
       "    </tr>\n",
       "    <tr>\n",
       "      <th>2</th>\n",
       "      <td>2024-10-10</td>\n",
       "      <td>169.760</td>\n",
       "      <td>172.01</td>\n",
       "      <td>162.0000</td>\n",
       "      <td>164.18</td>\n",
       "      <td>75113590.0</td>\n",
       "      <td>AMD</td>\n",
       "    </tr>\n",
       "    <tr>\n",
       "      <th>3</th>\n",
       "      <td>2024-10-09</td>\n",
       "      <td>174.050</td>\n",
       "      <td>174.05</td>\n",
       "      <td>169.5500</td>\n",
       "      <td>171.02</td>\n",
       "      <td>33890735.0</td>\n",
       "      <td>AMD</td>\n",
       "    </tr>\n",
       "    <tr>\n",
       "      <th>4</th>\n",
       "      <td>2024-10-08</td>\n",
       "      <td>171.750</td>\n",
       "      <td>173.60</td>\n",
       "      <td>170.0000</td>\n",
       "      <td>172.80</td>\n",
       "      <td>34730152.0</td>\n",
       "      <td>AMD</td>\n",
       "    </tr>\n",
       "    <tr>\n",
       "      <th>...</th>\n",
       "      <td>...</td>\n",
       "      <td>...</td>\n",
       "      <td>...</td>\n",
       "      <td>...</td>\n",
       "      <td>...</td>\n",
       "      <td>...</td>\n",
       "      <td>...</td>\n",
       "    </tr>\n",
       "    <tr>\n",
       "      <th>6273</th>\n",
       "      <td>1999-11-05</td>\n",
       "      <td>20.750</td>\n",
       "      <td>21.38</td>\n",
       "      <td>20.2500</td>\n",
       "      <td>21.25</td>\n",
       "      <td>2148000.0</td>\n",
       "      <td>AMD</td>\n",
       "    </tr>\n",
       "    <tr>\n",
       "      <th>6274</th>\n",
       "      <td>1999-11-04</td>\n",
       "      <td>21.130</td>\n",
       "      <td>21.31</td>\n",
       "      <td>19.9400</td>\n",
       "      <td>20.63</td>\n",
       "      <td>2415000.0</td>\n",
       "      <td>AMD</td>\n",
       "    </tr>\n",
       "    <tr>\n",
       "      <th>6275</th>\n",
       "      <td>1999-11-03</td>\n",
       "      <td>20.690</td>\n",
       "      <td>21.50</td>\n",
       "      <td>20.5600</td>\n",
       "      <td>21.31</td>\n",
       "      <td>2236000.0</td>\n",
       "      <td>AMD</td>\n",
       "    </tr>\n",
       "    <tr>\n",
       "      <th>6276</th>\n",
       "      <td>1999-11-02</td>\n",
       "      <td>20.310</td>\n",
       "      <td>20.81</td>\n",
       "      <td>20.3100</td>\n",
       "      <td>20.56</td>\n",
       "      <td>1898100.0</td>\n",
       "      <td>AMD</td>\n",
       "    </tr>\n",
       "    <tr>\n",
       "      <th>6277</th>\n",
       "      <td>1999-11-01</td>\n",
       "      <td>19.940</td>\n",
       "      <td>20.44</td>\n",
       "      <td>19.8800</td>\n",
       "      <td>20.31</td>\n",
       "      <td>1563700.0</td>\n",
       "      <td>AMD</td>\n",
       "    </tr>\n",
       "  </tbody>\n",
       "</table>\n",
       "<p>6278 rows × 7 columns</p>\n",
       "</div>"
      ],
      "text/plain": [
       "            date  1. open  2. high    3. low  4. close   5. volume ticker\n",
       "0     2024-10-14  167.770   168.90  165.1500    165.27  31757205.0    AMD\n",
       "1     2024-10-11  164.185   169.35  163.0101    167.89  42136175.0    AMD\n",
       "2     2024-10-10  169.760   172.01  162.0000    164.18  75113590.0    AMD\n",
       "3     2024-10-09  174.050   174.05  169.5500    171.02  33890735.0    AMD\n",
       "4     2024-10-08  171.750   173.60  170.0000    172.80  34730152.0    AMD\n",
       "...          ...      ...      ...       ...       ...         ...    ...\n",
       "6273  1999-11-05   20.750    21.38   20.2500     21.25   2148000.0    AMD\n",
       "6274  1999-11-04   21.130    21.31   19.9400     20.63   2415000.0    AMD\n",
       "6275  1999-11-03   20.690    21.50   20.5600     21.31   2236000.0    AMD\n",
       "6276  1999-11-02   20.310    20.81   20.3100     20.56   1898100.0    AMD\n",
       "6277  1999-11-01   19.940    20.44   19.8800     20.31   1563700.0    AMD\n",
       "\n",
       "[6278 rows x 7 columns]"
      ]
     },
     "execution_count": 18,
     "metadata": {},
     "output_type": "execute_result"
    }
   ],
   "source": [
    "amd_df"
   ]
  },
  {
   "cell_type": "code",
   "execution_count": 19,
   "metadata": {},
   "outputs": [],
   "source": [
    "# Converting the \"date\" column to timestamp\n",
    "amd_df['date'] = pd.to_datetime(amd_df['date'])"
   ]
  },
  {
   "cell_type": "code",
   "execution_count": 20,
   "metadata": {},
   "outputs": [
    {
     "name": "stdout",
     "output_type": "stream",
     "text": [
      "Cleaned column names:\n",
      "['date', 'f_1__open', 'f_2__high', 'f_3__low', 'f_4__close', 'f_5__volume', 'ticker']\n"
     ]
    }
   ],
   "source": [
    "import re\n",
    "\n",
    "# Function to clean column names\n",
    "def clean_column_name(col):\n",
    "    # Convert to lowercase\n",
    "    col = col.lower()\n",
    "    # Replace any invalid characters with an underscore\n",
    "    col = re.sub(r'[^a-z0-9_]', '_', col)\n",
    "    # If the column name doesn't start with a letter, prefix it with 'f_'\n",
    "    if not re.match(r'^[a-z]', col):\n",
    "        col = 'f_' + col\n",
    "    return col\n",
    "\n",
    "# Apply the function to all column names\n",
    "amd_df.columns = [clean_column_name(col) for col in amd_df.columns]\n",
    "\n",
    "print(\"Cleaned column names:\")\n",
    "print(amd_df.columns.tolist())\n"
   ]
  },
  {
   "cell_type": "code",
   "execution_count": 23,
   "metadata": {},
   "outputs": [],
   "source": [
    "# version 8 for the new feature group\n",
    "amd_fg = fs.create_feature_group(\n",
    "    name=\"amd_stock\",\n",
    "    description=\"AMD stock dataset from Alpha Vantage\",\n",
    "    version=2,  \n",
    "    primary_key=[\"ticker\"],\n",
    "    event_time=\"date\",\n",
    "    online_enabled=False,\n",
    ")\n"
   ]
  },
  {
   "cell_type": "code",
   "execution_count": 24,
   "metadata": {},
   "outputs": [
    {
     "name": "stdout",
     "output_type": "stream",
     "text": [
      "Feature Group created successfully, explore it at \n",
      "https://c.app.hopsworks.ai:443/p/564374/fs/560197/fg/1281372\n"
     ]
    },
    {
     "data": {
      "application/vnd.jupyter.widget-view+json": {
       "model_id": "0530ad7b76a64744a41b7a1bfabd2f98",
       "version_major": 2,
       "version_minor": 0
      },
      "text/plain": [
       "Uploading Dataframe: 0.00% |          | Rows 0/6278 | Elapsed Time: 00:00 | Remaining Time: ?"
      ]
     },
     "metadata": {},
     "output_type": "display_data"
    },
    {
     "name": "stdout",
     "output_type": "stream",
     "text": [
      "Launching job: amd_stock_2_offline_fg_materialization\n",
      "Job started successfully, you can follow the progress at \n",
      "https://c.app.hopsworks.ai/p/564374/jobs/named/amd_stock_2_offline_fg_materialization/executions\n"
     ]
    },
    {
     "data": {
      "text/plain": [
       "(<hsfs.core.job.Job at 0x27d012f8440>, None)"
      ]
     },
     "execution_count": 24,
     "metadata": {},
     "output_type": "execute_result"
    }
   ],
   "source": [
    "amd_fg.insert(amd_df, write_options={\"wait_for_job\": False})"
   ]
  }
 ],
 "metadata": {
  "kernelspec": {
   "display_name": "Python 3",
   "language": "python",
   "name": "python3"
  },
  "language_info": {
   "codemirror_mode": {
    "name": "ipython",
    "version": 3
   },
   "file_extension": ".py",
   "mimetype": "text/x-python",
   "name": "python",
   "nbconvert_exporter": "python",
   "pygments_lexer": "ipython3",
   "version": "3.12.7"
  }
 },
 "nbformat": 4,
 "nbformat_minor": 2
}
