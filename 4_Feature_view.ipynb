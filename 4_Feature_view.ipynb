{
 "cells": [
  {
   "cell_type": "code",
   "execution_count": 5,
   "metadata": {},
   "outputs": [
    {
     "name": "stdout",
     "output_type": "stream",
     "text": [
      "Connection closed.\n",
      "Connected. Call `.close()` to terminate connection gracefully.\n",
      "\n",
      "Logged in to project, explore it here https://c.app.hopsworks.ai:443/p/564374\n",
      "Connected. Call `.close()` to terminate connection gracefully.\n"
     ]
    }
   ],
   "source": [
    "# Importing necessary libraries\n",
    "import pandas as pd               \n",
    "import numpy as np                \n",
    "import matplotlib.pyplot as plt   \n",
    "import os                         \n",
    "import joblib                     \n",
    "import hopsworks                  \n",
    "import re\n",
    "from hsfs.client.exceptions import RestAPIError\n",
    "#Making the notebook able to fetch from the .env file\n",
    "from dotenv import load_dotenv\n",
    "load_dotenv()\n",
    "\n",
    "#Getting connected to hopsworks \n",
    "api_key = os.environ.get('HOPSWORKS_API') \n",
    "project = hopsworks.login(api_key_value=api_key) \n",
    "fs = project.get_feature_store()\n",
    "\n",
    "\n",
    "\n"
   ]
  },
  {
   "cell_type": "code",
   "execution_count": 6,
   "metadata": {},
   "outputs": [],
   "source": [
    "#Defining the function to create feature view\n",
    "\n",
    "def create_stocks_feature_view(fs, version):\n",
    "\n",
    "    # Loading in the feature groups\n",
    "    amd_fg = fs.get_feature_group('amd_stock', version=15)\n",
    "    \n",
    "\n",
    "    # Defining the query\n",
    "    ds_query = amd_fg.select(['date', 'f_1__open', 'f_4__close'])\n",
    "    \n",
    "\n",
    "    # Creating the feature view\n",
    "    feature_view = fs.create_feature_view(\n",
    "        name='amd_stock_fv',\n",
    "        query=ds_query,\n",
    "        labels=['f_4__close']\n",
    "    )\n",
    "\n",
    "    return feature_view, amd_fg"
   ]
  },
  {
   "cell_type": "code",
   "execution_count": 7,
   "metadata": {},
   "outputs": [
    {
     "name": "stdout",
     "output_type": "stream",
     "text": [
      "Feature view created successfully, explore it at \n",
      "https://c.app.hopsworks.ai:443/p/564374/fs/560197/fv/amd_stock_fv/version/11\n"
     ]
    }
   ],
   "source": [
    "#Creating the feature view\n",
    "try:\n",
    "    feature_view = fs.get_feature_view(\"amd_stock_fv\", version=12)\n",
    "    amd_fg = fs.get_feature_group('amd_stock', version=12)\n",
    "except:\n",
    "    feature_view, amd_fg = create_stocks_feature_view(fs, 12)"
   ]
  }
 ],
 "metadata": {
  "kernelspec": {
   "display_name": "Python 3",
   "language": "python",
   "name": "python3"
  },
  "language_info": {
   "codemirror_mode": {
    "name": "ipython",
    "version": 3
   },
   "file_extension": ".py",
   "mimetype": "text/x-python",
   "name": "python",
   "nbconvert_exporter": "python",
   "pygments_lexer": "ipython3",
   "version": "3.12.7"
  }
 },
 "nbformat": 4,
 "nbformat_minor": 2
}
