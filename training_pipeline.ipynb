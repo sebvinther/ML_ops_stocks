{
 "cells": [
  {
   "cell_type": "code",
   "execution_count": 1,
   "metadata": {},
   "outputs": [
    {
     "name": "stdout",
     "output_type": "stream",
     "text": [
      "2024-10-13 19:47:59,047 WARNING: DeprecationWarning: Type google._upb._message.MessageMapContainer uses PyType_Spec with a metaclass that has custom tp_new. This is deprecated and will no longer be allowed in Python 3.14.\n",
      "\n",
      "2024-10-13 19:47:59,048 WARNING: DeprecationWarning: Type google._upb._message.ScalarMapContainer uses PyType_Spec with a metaclass that has custom tp_new. This is deprecated and will no longer be allowed in Python 3.14.\n",
      "\n",
      "2024-10-13 19:48:06,146 WARNING: FutureIncompatibilityWarning: \n",
      "\n",
      "This is a future version incompatibility warning from Holidays library v0.58\n",
      "to inform you about an upcoming change in our API versioning strategy that may affect your\n",
      "project's dependencies. Starting from version 1.0 onwards, we will be following a loose form of\n",
      "Semantic Versioning (SemVer, https://semver.org) to provide clearer communication regarding any\n",
      "potential breaking changes.\n",
      "\n",
      "This means that while we strive to maintain backward compatibility, there might be occasional\n",
      "updates that introduce breaking changes to our API. To ensure the stability of your projects,\n",
      "we highly recommend pinning the version of our API that you rely on. You can pin your current\n",
      "holidays v0.x dependency (e.g., holidays==0.58) or limit it (e.g., holidays<1.0) in order to\n",
      "avoid potentially unwanted upgrade to the version 1.0 when it's released (ETA 2024Q4 - 2025Q1).\n",
      "\n",
      "If you have any questions or concerns regarding this change, please don't hesitate to reach out\n",
      "to us via https://github.com/vacanza/holidays/discussions/1800.\n",
      "\n",
      "\n",
      "2024-10-13 19:48:07,425 ERROR: Importing plotly failed. Interactive plots will not work.\n",
      "Connected. Call `.close()` to terminate connection gracefully.\n",
      "\n",
      "Logged in to project, explore it here https://c.app.hopsworks.ai:443/p/564374\n",
      "2024-10-13 19:48:09,452 WARNING: using legacy validation callback\n",
      "Connected. Call `.close()` to terminate connection gracefully.\n",
      "Connected. Call `.close()` to terminate connection gracefully.\n"
     ]
    }
   ],
   "source": [
    "#Importing necessary libraries\n",
    "import hopsworks\n",
    "import hsfs\n",
    "from dotenv import load_dotenv\n",
    "import os\n",
    "import pandas as pd\n",
    "import numpy as np\n",
    "from sklearn.preprocessing import OneHotEncoder\n",
    "from sklearn.preprocessing import MinMaxScaler\n",
    "from sklearn.metrics import mean_squared_error\n",
    "from hsml.schema import Schema\n",
    "from hsml.model_schema import ModelSchema\n",
    "from tensorflow.keras.models import Sequential\n",
    "from tensorflow.keras.layers import Input, LSTM, Dense, Dropout\n",
    "from sklearn.preprocessing import StandardScaler  # Import StandardScaler from scikit-learn\n",
    "import joblib\n",
    "from prophet import Prophet\n",
    "\n",
    "load_dotenv()\n",
    "\n",
    "#Connecting to hopsworks\n",
    "api_key = os.environ.get('hopsworks_api')\n",
    "project = hopsworks.login(api_key_value=api_key)\n",
    "fs = project.get_feature_store()\n",
    "\n",
    "#Another connection to hopsworks\n",
    "api_key = os.getenv('hopsworks_api')\n",
    "connection = hsfs.connection()\n",
    "fs = connection.get_feature_store()"
   ]
  },
  {
   "cell_type": "code",
   "execution_count": 3,
   "metadata": {},
   "outputs": [],
   "source": [
    "#Getting the feature view\n",
    "feature_view = fs.get_feature_view(\n",
    "    name='amd_stocks_fv',\n",
    "    version=8\n",
    ")"
   ]
  },
  {
   "cell_type": "code",
   "execution_count": 5,
   "metadata": {},
   "outputs": [
    {
     "name": "stdout",
     "output_type": "stream",
     "text": [
      "Finished: Reading data from Hopsworks, using Hopsworks Feature Query Service (1.58s) \n"
     ]
    }
   ],
   "source": [
    "df = feature_view.get_batch_data()\n"
   ]
  },
  {
   "cell_type": "code",
   "execution_count": 6,
   "metadata": {},
   "outputs": [],
   "source": [
    "df['date'] = pd.to_datetime(df['date'])\n"
   ]
  },
  {
   "cell_type": "code",
   "execution_count": 7,
   "metadata": {},
   "outputs": [],
   "source": [
    "df = df.sort_values('date')"
   ]
  },
  {
   "cell_type": "code",
   "execution_count": 9,
   "metadata": {},
   "outputs": [
    {
     "name": "stdout",
     "output_type": "stream",
     "text": [
      "Columns in df:\n",
      "['date', 'f_1__open', 'f_2__high', 'f_3__low', 'f_5__volume', 'ticker']\n"
     ]
    }
   ],
   "source": [
    "print(\"Columns in df:\")\n",
    "print(df.columns.tolist())"
   ]
  },
  {
   "cell_type": "code",
   "execution_count": 14,
   "metadata": {},
   "outputs": [],
   "source": [
    "prophet_df = df[['date', 'f_1__open']].rename(columns={'date': 'ds', 'f_1__open': 'y'})"
   ]
  },
  {
   "cell_type": "code",
   "execution_count": 15,
   "metadata": {},
   "outputs": [
    {
     "name": "stdout",
     "output_type": "stream",
     "text": [
      "Data range in prophet_df: 1999-11-01 00:00:00 to 2024-10-04 00:00:00\n",
      "2024-10-13 19:59:35,320 DEBUG: cmd: where.exe tbb.dll\n",
      "cwd: None\n",
      "2024-10-13 19:59:35,371 DEBUG: TBB already found in load path\n",
      "2024-10-13 19:59:35,390 DEBUG: input tempfile: C:\\Users\\svjen\\AppData\\Local\\Temp\\tmpkfyiavbp\\jl5ya8wd.json\n",
      "2024-10-13 19:59:35,433 DEBUG: input tempfile: C:\\Users\\svjen\\AppData\\Local\\Temp\\tmpkfyiavbp\\tstnymak.json\n",
      "2024-10-13 19:59:35,435 DEBUG: idx 0\n",
      "2024-10-13 19:59:35,436 DEBUG: running CmdStan, num_threads: None\n",
      "2024-10-13 19:59:35,436 DEBUG: CmdStan args: ['C:\\\\Users\\\\svjen\\\\OneDrive\\\\Skrivebord\\\\Github_repos\\\\ML_ops_stocks\\\\.conda\\\\Lib\\\\site-packages\\\\prophet\\\\stan_model\\\\prophet_model.bin', 'random', 'seed=93117', 'data', 'file=C:\\\\Users\\\\svjen\\\\AppData\\\\Local\\\\Temp\\\\tmpkfyiavbp\\\\jl5ya8wd.json', 'init=C:\\\\Users\\\\svjen\\\\AppData\\\\Local\\\\Temp\\\\tmpkfyiavbp\\\\tstnymak.json', 'output', 'file=C:\\\\Users\\\\svjen\\\\AppData\\\\Local\\\\Temp\\\\tmpkfyiavbp\\\\prophet_model_jztkx3a\\\\prophet_model-20241013195935.csv', 'method=optimize', 'algorithm=lbfgs', 'iter=10000']\n"
     ]
    },
    {
     "name": "stderr",
     "output_type": "stream",
     "text": [
      "19:59:35 - cmdstanpy - INFO - Chain [1] start processing\n"
     ]
    },
    {
     "name": "stdout",
     "output_type": "stream",
     "text": [
      "2024-10-13 19:59:35,437 INFO: Chain [1] start processing\n"
     ]
    },
    {
     "name": "stderr",
     "output_type": "stream",
     "text": [
      "19:59:35 - cmdstanpy - INFO - Chain [1] done processing\n"
     ]
    },
    {
     "name": "stdout",
     "output_type": "stream",
     "text": [
      "2024-10-13 19:59:35,508 INFO: Chain [1] done processing\n",
      "2024-10-13 19:59:35,599 WARNING: FutureWarning: 'squared' is deprecated in version 1.4 and will be removed in 1.6. To calculate the root mean squared error, use the function'root_mean_squared_error'.\n",
      "\n",
      "Mean Absolute Error (MAE): 14.75591292804646\n",
      "Root Mean Squared Error (RMSE): 17.237253378110058\n"
     ]
    },
    {
     "data": {
      "image/png": "[encoded data removed]",
      "text/plain": [
       "<Figure size 1200x600 with 1 Axes>"
      ]
     },
     "metadata": {},
     "output_type": "display_data"
    }
   ],
   "source": [
    "from datetime import datetime\n",
    "\n",
    "# Remove timezone information from 'ds' column\n",
    "prophet_df['ds'] = prophet_df['ds'].dt.tz_localize(None)\n",
    "\n",
    "# Setting up train & test split dates\n",
    "train_start = \"2020-06-13\"\n",
    "train_end = \"2022-12-31\"\n",
    "\n",
    "test_start = \"2023-01-01\"\n",
    "test_end = \"2023-12-31\"\n",
    "\n",
    "# Convert the date strings to datetime objects\n",
    "train_start_date = datetime.strptime(train_start, \"%Y-%m-%d\")\n",
    "train_end_date = datetime.strptime(train_end, \"%Y-%m-%d\")\n",
    "test_start_date = datetime.strptime(test_start, \"%Y-%m-%d\")\n",
    "test_end_date = datetime.strptime(test_end, \"%Y-%m-%d\")\n",
    "\n",
    "# Verify the data range in prophet_df\n",
    "print(\"Data range in prophet_df:\", prophet_df['ds'].min(), \"to\", prophet_df['ds'].max())\n",
    "\n",
    "# Split the data\n",
    "train_df = prophet_df[\n",
    "    (prophet_df['ds'] >= train_start_date) & (prophet_df['ds'] <= train_end_date)\n",
    "]\n",
    "\n",
    "test_df = prophet_df[\n",
    "    (prophet_df['ds'] >= test_start_date) & (prophet_df['ds'] <= test_end_date)\n",
    "]\n",
    "\n",
    "# Proceed with modeling\n",
    "model = Prophet(daily_seasonality=True)\n",
    "model.fit(train_df)\n",
    "\n",
    "# Use the dates from the test set for prediction\n",
    "future_dates = test_df[['ds']]\n",
    "\n",
    "# Generate forecasts\n",
    "forecast = model.predict(future_dates)\n",
    "\n",
    "# Merge the forecast with the actual test data\n",
    "forecast_df = forecast[['ds', 'yhat']].set_index('ds')\n",
    "actual_df = test_df.set_index('ds')\n",
    "\n",
    "comparison_df = actual_df.join(forecast_df, how='left').dropna()\n",
    "\n",
    "# Compute evaluation metrics\n",
    "from sklearn.metrics import mean_absolute_error, mean_squared_error\n",
    "\n",
    "mae = mean_absolute_error(comparison_df['y'], comparison_df['yhat'])\n",
    "rmse = mean_squared_error(comparison_df['y'], comparison_df['yhat'], squared=False)\n",
    "\n",
    "print(f\"Mean Absolute Error (MAE): {mae}\")\n",
    "print(f\"Root Mean Squared Error (RMSE): {rmse}\")\n",
    "\n",
    "# Visualize the results\n",
    "import matplotlib.pyplot as plt\n",
    "\n",
    "plt.figure(figsize=(12, 6))\n",
    "plt.plot(comparison_df.index, comparison_df['y'], label='Actual')\n",
    "plt.plot(comparison_df.index, comparison_df['yhat'], label='Predicted')\n",
    "plt.legend()\n",
    "plt.title('Actual vs. Predicted AMD Stock Prices')\n",
    "plt.xlabel('Date')\n",
    "plt.ylabel('Price')\n",
    "plt.show()\n"
   ]
  },
  {
   "cell_type": "code",
   "execution_count": 9,
   "metadata": {},
   "outputs": [],
   "source": [
    "# Setting up train & test split dates\n",
    "train_start = \"2020-06-13\"\n",
    "train_end = \"2023-12-31\"\n",
    "\n",
    "test_start = \"2024-01-13\"\n",
    "test_end = \"2024-10-13\""
   ]
  },
  {
   "cell_type": "code",
   "execution_count": 10,
   "metadata": {},
   "outputs": [
    {
     "name": "stdout",
     "output_type": "stream",
     "text": [
      "Training dataset job started successfully, you can follow the progress at \n",
      "https://c.app.hopsworks.ai/p/564374/jobs/named/amd_stocks_fv_8_create_fv_td_13102024093206/executions\n",
      "2024-10-13 11:33:36,220 WARNING: VersionWarning: Incremented version to `1`.\n",
      "\n"
     ]
    },
    {
     "data": {
      "text/plain": [
       "(1, <hsfs.core.job.Job at 0x1d3d159b7a0>)"
      ]
     },
     "execution_count": 10,
     "metadata": {},
     "output_type": "execute_result"
    }
   ],
   "source": [
    "feature_view.create_train_test_split(\n",
    "    train_start=train_start,\n",
    "    train_end=train_end,\n",
    "    test_start=test_start,\n",
    "    test_end=test_end,\n",
    "    data_format='csv',\n",
    "    coalesce=True,\n",
    "    statistics_config={'histogram': True, 'correlations': True}\n",
    ")"
   ]
  },
  {
   "cell_type": "code",
   "execution_count": 11,
   "metadata": {},
   "outputs": [],
   "source": [
    "#retrieving the training data from hopsworks\n",
    "X_train, X_test, y_train, y_test = feature_view.get_train_test_split(1)"
   ]
  },
  {
   "cell_type": "code",
   "execution_count": 12,
   "metadata": {},
   "outputs": [
    {
     "data": {
      "text/html": [
       "<div>\n",
       "<style scoped>\n",
       "    .dataframe tbody tr th:only-of-type {\n",
       "        vertical-align: middle;\n",
       "    }\n",
       "\n",
       "    .dataframe tbody tr th {\n",
       "        vertical-align: top;\n",
       "    }\n",
       "\n",
       "    .dataframe thead th {\n",
       "        text-align: right;\n",
       "    }\n",
       "</style>\n",
       "<table border=\"1\" class=\"dataframe\">\n",
       "  <thead>\n",
       "    <tr style=\"text-align: right;\">\n",
       "      <th></th>\n",
       "      <th>date</th>\n",
       "      <th>f_1__open</th>\n",
       "      <th>f_2__high</th>\n",
       "      <th>f_3__low</th>\n",
       "      <th>f_5__volume</th>\n",
       "      <th>ticker</th>\n",
       "    </tr>\n",
       "  </thead>\n",
       "  <tbody>\n",
       "    <tr>\n",
       "      <th>0</th>\n",
       "      <td>2023-12-12T00:00:00.000Z</td>\n",
       "      <td>132.250</td>\n",
       "      <td>139.8900</td>\n",
       "      <td>131.90</td>\n",
       "      <td>111677821.0</td>\n",
       "      <td>AMD</td>\n",
       "    </tr>\n",
       "    <tr>\n",
       "      <th>1</th>\n",
       "      <td>2023-11-28T00:00:00.000Z</td>\n",
       "      <td>121.980</td>\n",
       "      <td>122.5400</td>\n",
       "      <td>120.79</td>\n",
       "      <td>32047063.0</td>\n",
       "      <td>AMD</td>\n",
       "    </tr>\n",
       "    <tr>\n",
       "      <th>2</th>\n",
       "      <td>2021-05-24T00:00:00.000Z</td>\n",
       "      <td>77.260</td>\n",
       "      <td>78.0100</td>\n",
       "      <td>76.80</td>\n",
       "      <td>33194287.0</td>\n",
       "      <td>AMD</td>\n",
       "    </tr>\n",
       "    <tr>\n",
       "      <th>3</th>\n",
       "      <td>2021-11-22T00:00:00.000Z</td>\n",
       "      <td>157.140</td>\n",
       "      <td>161.8799</td>\n",
       "      <td>152.39</td>\n",
       "      <td>58674078.0</td>\n",
       "      <td>AMD</td>\n",
       "    </tr>\n",
       "    <tr>\n",
       "      <th>4</th>\n",
       "      <td>2023-01-30T00:00:00.000Z</td>\n",
       "      <td>74.230</td>\n",
       "      <td>74.6400</td>\n",
       "      <td>72.40</td>\n",
       "      <td>48105243.0</td>\n",
       "      <td>AMD</td>\n",
       "    </tr>\n",
       "    <tr>\n",
       "      <th>...</th>\n",
       "      <td>...</td>\n",
       "      <td>...</td>\n",
       "      <td>...</td>\n",
       "      <td>...</td>\n",
       "      <td>...</td>\n",
       "      <td>...</td>\n",
       "    </tr>\n",
       "    <tr>\n",
       "      <th>888</th>\n",
       "      <td>2020-10-06T00:00:00.000Z</td>\n",
       "      <td>86.210</td>\n",
       "      <td>87.2500</td>\n",
       "      <td>83.54</td>\n",
       "      <td>52725432.0</td>\n",
       "      <td>AMD</td>\n",
       "    </tr>\n",
       "    <tr>\n",
       "      <th>889</th>\n",
       "      <td>2021-04-20T00:00:00.000Z</td>\n",
       "      <td>80.820</td>\n",
       "      <td>81.1100</td>\n",
       "      <td>78.51</td>\n",
       "      <td>34977750.0</td>\n",
       "      <td>AMD</td>\n",
       "    </tr>\n",
       "    <tr>\n",
       "      <th>890</th>\n",
       "      <td>2021-08-12T00:00:00.000Z</td>\n",
       "      <td>107.390</td>\n",
       "      <td>108.4400</td>\n",
       "      <td>105.86</td>\n",
       "      <td>60625725.0</td>\n",
       "      <td>AMD</td>\n",
       "    </tr>\n",
       "    <tr>\n",
       "      <th>891</th>\n",
       "      <td>2023-12-07T00:00:00.000Z</td>\n",
       "      <td>120.785</td>\n",
       "      <td>128.6800</td>\n",
       "      <td>119.56</td>\n",
       "      <td>118579097.0</td>\n",
       "      <td>AMD</td>\n",
       "    </tr>\n",
       "    <tr>\n",
       "      <th>892</th>\n",
       "      <td>2020-06-24T00:00:00.000Z</td>\n",
       "      <td>53.940</td>\n",
       "      <td>54.7400</td>\n",
       "      <td>51.92</td>\n",
       "      <td>53535548.0</td>\n",
       "      <td>AMD</td>\n",
       "    </tr>\n",
       "  </tbody>\n",
       "</table>\n",
       "<p>893 rows × 6 columns</p>\n",
       "</div>"
      ],
      "text/plain": [
       "                         date  f_1__open  f_2__high  f_3__low  f_5__volume  \\\n",
       "0    2023-12-12T00:00:00.000Z    132.250   139.8900    131.90  111677821.0   \n",
       "1    2023-11-28T00:00:00.000Z    121.980   122.5400    120.79   32047063.0   \n",
       "2    2021-05-24T00:00:00.000Z     77.260    78.0100     76.80   33194287.0   \n",
       "3    2021-11-22T00:00:00.000Z    157.140   161.8799    152.39   58674078.0   \n",
       "4    2023-01-30T00:00:00.000Z     74.230    74.6400     72.40   48105243.0   \n",
       "..                        ...        ...        ...       ...          ...   \n",
       "888  2020-10-06T00:00:00.000Z     86.210    87.2500     83.54   52725432.0   \n",
       "889  2021-04-20T00:00:00.000Z     80.820    81.1100     78.51   34977750.0   \n",
       "890  2021-08-12T00:00:00.000Z    107.390   108.4400    105.86   60625725.0   \n",
       "891  2023-12-07T00:00:00.000Z    120.785   128.6800    119.56  118579097.0   \n",
       "892  2020-06-24T00:00:00.000Z     53.940    54.7400     51.92   53535548.0   \n",
       "\n",
       "    ticker  \n",
       "0      AMD  \n",
       "1      AMD  \n",
       "2      AMD  \n",
       "3      AMD  \n",
       "4      AMD  \n",
       "..     ...  \n",
       "888    AMD  \n",
       "889    AMD  \n",
       "890    AMD  \n",
       "891    AMD  \n",
       "892    AMD  \n",
       "\n",
       "[893 rows x 6 columns]"
      ]
     },
     "execution_count": 12,
     "metadata": {},
     "output_type": "execute_result"
    }
   ],
   "source": [
    "X_train"
   ]
  },
  {
   "cell_type": "code",
   "execution_count": 13,
   "metadata": {},
   "outputs": [],
   "source": [
    "#Converting date into datetime\n",
    "X_train['date'] = pd.to_datetime(X_train['date']).dt.date\n",
    "X_test['date'] = pd.to_datetime(X_test['date']).dt.date\n",
    "X_train['date'] = pd.to_datetime(X_train['date'])\n",
    "X_test['date'] = pd.to_datetime(X_test['date'])"
   ]
  },
  {
   "cell_type": "code",
   "execution_count": 15,
   "metadata": {},
   "outputs": [
    {
     "data": {
      "text/html": [
       "<div>\n",
       "<style scoped>\n",
       "    .dataframe tbody tr th:only-of-type {\n",
       "        vertical-align: middle;\n",
       "    }\n",
       "\n",
       "    .dataframe tbody tr th {\n",
       "        vertical-align: top;\n",
       "    }\n",
       "\n",
       "    .dataframe thead th {\n",
       "        text-align: right;\n",
       "    }\n",
       "</style>\n",
       "<table border=\"1\" class=\"dataframe\">\n",
       "  <thead>\n",
       "    <tr style=\"text-align: right;\">\n",
       "      <th></th>\n",
       "      <th>date</th>\n",
       "      <th>f_1__open</th>\n",
       "      <th>f_2__high</th>\n",
       "      <th>f_3__low</th>\n",
       "      <th>f_5__volume</th>\n",
       "      <th>ticker</th>\n",
       "    </tr>\n",
       "  </thead>\n",
       "  <tbody>\n",
       "    <tr>\n",
       "      <th>0</th>\n",
       "      <td>2023-12-12</td>\n",
       "      <td>132.2500</td>\n",
       "      <td>139.8900</td>\n",
       "      <td>131.90</td>\n",
       "      <td>111677821.0</td>\n",
       "      <td>AMD</td>\n",
       "    </tr>\n",
       "    <tr>\n",
       "      <th>1</th>\n",
       "      <td>2023-11-28</td>\n",
       "      <td>121.9800</td>\n",
       "      <td>122.5400</td>\n",
       "      <td>120.79</td>\n",
       "      <td>32047063.0</td>\n",
       "      <td>AMD</td>\n",
       "    </tr>\n",
       "    <tr>\n",
       "      <th>2</th>\n",
       "      <td>2021-05-24</td>\n",
       "      <td>77.2600</td>\n",
       "      <td>78.0100</td>\n",
       "      <td>76.80</td>\n",
       "      <td>33194287.0</td>\n",
       "      <td>AMD</td>\n",
       "    </tr>\n",
       "    <tr>\n",
       "      <th>3</th>\n",
       "      <td>2021-11-22</td>\n",
       "      <td>157.1400</td>\n",
       "      <td>161.8799</td>\n",
       "      <td>152.39</td>\n",
       "      <td>58674078.0</td>\n",
       "      <td>AMD</td>\n",
       "    </tr>\n",
       "    <tr>\n",
       "      <th>4</th>\n",
       "      <td>2023-01-30</td>\n",
       "      <td>74.2300</td>\n",
       "      <td>74.6400</td>\n",
       "      <td>72.40</td>\n",
       "      <td>48105243.0</td>\n",
       "      <td>AMD</td>\n",
       "    </tr>\n",
       "    <tr>\n",
       "      <th>5</th>\n",
       "      <td>2022-01-31</td>\n",
       "      <td>107.9300</td>\n",
       "      <td>114.3100</td>\n",
       "      <td>106.90</td>\n",
       "      <td>97205994.0</td>\n",
       "      <td>AMD</td>\n",
       "    </tr>\n",
       "    <tr>\n",
       "      <th>6</th>\n",
       "      <td>2023-10-03</td>\n",
       "      <td>101.7963</td>\n",
       "      <td>103.2900</td>\n",
       "      <td>99.17</td>\n",
       "      <td>48116980.0</td>\n",
       "      <td>AMD</td>\n",
       "    </tr>\n",
       "    <tr>\n",
       "      <th>7</th>\n",
       "      <td>2020-12-24</td>\n",
       "      <td>91.8000</td>\n",
       "      <td>92.5100</td>\n",
       "      <td>91.31</td>\n",
       "      <td>16705909.0</td>\n",
       "      <td>AMD</td>\n",
       "    </tr>\n",
       "    <tr>\n",
       "      <th>8</th>\n",
       "      <td>2021-04-19</td>\n",
       "      <td>82.1300</td>\n",
       "      <td>83.1800</td>\n",
       "      <td>80.39</td>\n",
       "      <td>39115461.0</td>\n",
       "      <td>AMD</td>\n",
       "    </tr>\n",
       "    <tr>\n",
       "      <th>9</th>\n",
       "      <td>2022-06-28</td>\n",
       "      <td>85.7100</td>\n",
       "      <td>86.7300</td>\n",
       "      <td>80.43</td>\n",
       "      <td>95752533.0</td>\n",
       "      <td>AMD</td>\n",
       "    </tr>\n",
       "  </tbody>\n",
       "</table>\n",
       "</div>"
      ],
      "text/plain": [
       "        date  f_1__open  f_2__high  f_3__low  f_5__volume ticker\n",
       "0 2023-12-12   132.2500   139.8900    131.90  111677821.0    AMD\n",
       "1 2023-11-28   121.9800   122.5400    120.79   32047063.0    AMD\n",
       "2 2021-05-24    77.2600    78.0100     76.80   33194287.0    AMD\n",
       "3 2021-11-22   157.1400   161.8799    152.39   58674078.0    AMD\n",
       "4 2023-01-30    74.2300    74.6400     72.40   48105243.0    AMD\n",
       "5 2022-01-31   107.9300   114.3100    106.90   97205994.0    AMD\n",
       "6 2023-10-03   101.7963   103.2900     99.17   48116980.0    AMD\n",
       "7 2020-12-24    91.8000    92.5100     91.31   16705909.0    AMD\n",
       "8 2021-04-19    82.1300    83.1800     80.39   39115461.0    AMD\n",
       "9 2022-06-28    85.7100    86.7300     80.43   95752533.0    AMD"
      ]
     },
     "execution_count": 15,
     "metadata": {},
     "output_type": "execute_result"
    }
   ],
   "source": [
    "#inspecting the format of the data\n",
    "X_train.head(10)"
   ]
  },
  {
   "cell_type": "code",
   "execution_count": null,
   "metadata": {},
   "outputs": [],
   "source": []
  }
 ],
 "metadata": {
  "kernelspec": {
   "display_name": "Python 3",
   "language": "python",
   "name": "python3"
  },
  "language_info": {
   "codemirror_mode": {
    "name": "ipython",
    "version": 3
   },
   "file_extension": ".py",
   "mimetype": "text/x-python",
   "name": "python",
   "nbconvert_exporter": "python",
   "pygments_lexer": "ipython3",
   "version": "3.12.7"
  }
 },
 "nbformat": 4,
 "nbformat_minor": 2
}
