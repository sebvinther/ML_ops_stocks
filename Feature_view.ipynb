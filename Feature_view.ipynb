{
 "cells": [
  {
   "cell_type": "code",
   "execution_count": 39,
   "metadata": {},
   "outputs": [],
   "source": [
    "# Importing necessary libraries\n",
    "import pandas as pd               \n",
    "import numpy as np                \n",
    "import matplotlib.pyplot as plt   \n",
    "import os                         \n",
    "import joblib                     \n",
    "import hopsworks                  \n",
    "import re\n",
    "from hsfs.client.exceptions import RestAPIError\n",
    "#Making the notebook able to fetch from the .env file\n",
    "from dotenv import load_dotenv\n",
    "\n",
    "load_dotenv()\n",
    "# Check if the feature group already exists before creating it\n",
    "def create_stocks_feature_view(fs, version):\n",
    "    try:\n",
    "        amd_fg = fs.get_feature_group('amd_stock', version=version)\n",
    "        print(f\"Feature group 'amd_stock' with version {version} already exists.\")\n",
    "    except RestAPIError as e:\n",
    "        if e.error_code == 270089:\n",
    "            print(f\"Creating feature group 'amd_stock' with version {version}.\")\n",
    "            # Loading in the feature groups\n",
    "            amd_fg = fs.get_feature_group('amd_stock', version=7)\n",
    "            # Defining the query\n",
    "            ds_query = amd_fg.select(['date', 'open', 'close'])\n",
    "            # Creating the feature view\n",
    "            feature_view = fs.create_feature_view(\n",
    "                name='amd_stocks_fv',\n",
    "                query=ds_query,\n",
    "                labels=['open']\n",
    "            )\n",
    "            return feature_view, amd_fg\n",
    "        else:\n",
    "            raise e\n",
    "\n"
   ]
  },
  {
   "cell_type": "code",
   "execution_count": 40,
   "metadata": {},
   "outputs": [
    {
     "name": "stdout",
     "output_type": "stream",
     "text": [
      "Connection closed.\n",
      "Connected. Call `.close()` to terminate connection gracefully.\n",
      "\n",
      "Logged in to project, explore it here https://c.app.hopsworks.ai:443/p/564374\n",
      "Connected. Call `.close()` to terminate connection gracefully.\n"
     ]
    }
   ],
   "source": [
    "#Getting connected to hopsworks \n",
    "api_key = os.environ.get('hopsworks_api') \n",
    "project = hopsworks.login(api_key_value=api_key) \n",
    "fs = project.get_feature_store()"
   ]
  },
  {
   "cell_type": "code",
   "execution_count": 41,
   "metadata": {},
   "outputs": [],
   "source": [
    "#Defining the function to create feature view\n",
    "\n",
    "def create_stocks_feature_view(fs, version):\n",
    "\n",
    "    # Loading in the feature groups\n",
    "    amd_fg = fs.get_feature_group('amd_stock', version=8)\n",
    "    \n",
    "\n",
    "    # Defining the query\n",
    "    ds_query = amd_fg.select(['date', 'open', 'close'])\\\n",
    "        \n",
    "\n",
    "    # Creating the feature view\n",
    "    feature_view = fs.create_feature_view(\n",
    "        name='amd_stocks_fv',\n",
    "        query=ds_query,\n",
    "        labels=['open']\n",
    "    )\n",
    "\n",
    "    return feature_view, amd_fg"
   ]
  },
  {
   "cell_type": "code",
   "execution_count": 42,
   "metadata": {},
   "outputs": [
    {
     "name": "stdout",
     "output_type": "stream",
     "text": [
      "Feature group 'amd_stock' with version 8 already exists.\n",
      "Feature view 'amd_stocks_fv' with version 8 already exists.\n"
     ]
    }
   ],
   "source": [
    "def create_stocks_feature_view(fs, version):\n",
    "    # Load and preprocess data\n",
    "    amd_df = pd.read_csv('AMD_stock_prices.csv')\n",
    "    amd_df['date'] = pd.to_datetime(amd_df['date'])\n",
    "\n",
    "    # Ensure 'ticker' column exists\n",
    "    if 'ticker' not in amd_df.columns:\n",
    "        amd_df['ticker'] = 'AMD'\n",
    "\n",
    "    # Clean column names\n",
    "    def clean_column_name(col):\n",
    "        col = col.lower()\n",
    "        col = re.sub(r'[^a-z0-9_]', '_', col)\n",
    "        if not re.match(r'^[a-z]', col):\n",
    "            col = 'f_' + col\n",
    "        return col\n",
    "\n",
    "    amd_df.columns = [clean_column_name(col) for col in amd_df.columns]\n",
    "\n",
    "    # Convert data types\n",
    "    numeric_columns = [col for col in amd_df.columns if col not in ['date', 'ticker']]\n",
    "    for col in numeric_columns:\n",
    "        amd_df[col] = pd.to_numeric(amd_df[col], errors='coerce')\n",
    "\n",
    "    # Create or get the feature group\n",
    "    try:\n",
    "        amd_fg = fs.get_feature_group('amd_stock', version=version)\n",
    "        print(f\"Feature group 'amd_stock' with version {version} already exists.\")\n",
    "    except RestAPIError as e:\n",
    "        print(f\"Creating feature group 'amd_stock' with version {version}.\")\n",
    "        amd_fg = fs.create_feature_group(\n",
    "            name='amd_stock',\n",
    "            version=version,\n",
    "            description='AMD stock dataset',\n",
    "            primary_key=['ticker'],\n",
    "            event_time='date',\n",
    "            online_enabled=False\n",
    "        )\n",
    "        # Insert data into the feature group\n",
    "        amd_fg.insert(amd_df, write_options={\"wait_for_job\": True})\n",
    "        print(\"Data inserted into the feature group.\")\n",
    "\n",
    "    # Create or get the feature view\n",
    "    try:\n",
    "        feature_view = fs.get_feature_view('amd_stocks_fv', version=version)\n",
    "        print(f\"Feature view 'amd_stocks_fv' with version {version} already exists.\")\n",
    "    except RestAPIError as e:\n",
    "        print(f\"Creating feature view 'amd_stocks_fv' with version {version}.\")\n",
    "        # Define the query\n",
    "        feature_query = amd_fg.select_all()\n",
    "        # Create the feature view\n",
    "        feature_view = fs.create_feature_view(\n",
    "            name='amd_stocks_fv',\n",
    "            version=version,\n",
    "            description='Feature view for AMD stock data',\n",
    "            labels=['f_4__close'],  # Adjust label column as needed\n",
    "            query=feature_query\n",
    "        )\n",
    "        print(\"Feature view created.\")\n",
    "\n",
    "    return feature_view, amd_fg\n",
    "\n",
    "version = 8  # Use the desired version number\n",
    "\n",
    "feature_view, amd_fg = create_stocks_feature_view(fs, version)"
   ]
  },
  {
   "cell_type": "code",
   "execution_count": 43,
   "metadata": {},
   "outputs": [
    {
     "name": "stdout",
     "output_type": "stream",
     "text": [
      "Features in the feature view:\n",
      "- date (timestamp)\n",
      "- f_1__open (double)\n",
      "- f_2__high (double)\n",
      "- f_3__low (double)\n",
      "- f_4__close (double)\n",
      "- f_5__volume (double)\n",
      "- ticker (string)\n",
      "Sample data from the feature view:\n"
     ]
    }
   ],
   "source": [
    "# Verify the feature view\n",
    "print(\"Features in the feature view:\")\n",
    "for feature in feature_view.features:\n",
    "    print(f\"- {feature.name} ({feature.type})\")\n",
    "\n",
    "\n",
    "print(\"Sample data from the feature view:\")\n",
    "\n"
   ]
  },
  {
   "cell_type": "code",
   "execution_count": 45,
   "metadata": {},
   "outputs": [
    {
     "name": "stdout",
     "output_type": "stream",
     "text": [
      "2024-10-13 11:19:37,720 WARNING: DeprecationWarning: Type google._upb._message.MessageMapContainer uses PyType_Spec with a metaclass that has custom tp_new. This is deprecated and will no longer be allowed in Python 3.14.\n",
      "\n",
      "2024-10-13 11:19:37,721 WARNING: DeprecationWarning: Type google._upb._message.ScalarMapContainer uses PyType_Spec with a metaclass that has custom tp_new. This is deprecated and will no longer be allowed in Python 3.14.\n",
      "\n",
      "            1. open  2. high    3. low  4. close   5. volume\n",
      "date                                                        \n",
      "2024-10-11  164.185   169.35  163.0101    167.89  42136175.0\n",
      "2024-10-10  169.760   172.01  162.0000    164.18  75113590.0\n",
      "2024-10-09  174.050   174.05  169.5500    171.02  33890735.0\n",
      "2024-10-08  171.750   173.60  170.0000    172.80  34730152.0\n",
      "2024-10-07  171.080   172.41  168.2100    170.97  38379930.0\n",
      "<class 'pandas.core.frame.DataFrame'>\n",
      "DatetimeIndex: 6277 entries, 2024-10-11 to 1999-11-01\n",
      "Data columns (total 5 columns):\n",
      " #   Column     Non-Null Count  Dtype  \n",
      "---  ------     --------------  -----  \n",
      " 0   1. open    6277 non-null   float64\n",
      " 1   2. high    6277 non-null   float64\n",
      " 2   3. low     6277 non-null   float64\n",
      " 3   4. close   6277 non-null   float64\n",
      " 4   5. volume  6277 non-null   float64\n",
      "dtypes: float64(5)\n",
      "memory usage: 294.2 KB\n",
      "2022-10-17 00:00:00\n",
      "2024-10-11 00:00:00\n"
     ]
    }
   ],
   "source": [
    "#Defining a function to get fixed data from the feature view\n",
    "from OPS.preprocessing_stocks import extract_business_day\n",
    "\n",
    "\n",
    "def fix_data_from_feature_view(df,start_date,end_date):\n",
    "    df = df.sort_values(\"date\")\n",
    "    df = df.reset_index()\n",
    "    df = df.drop(columns=[\"index\"])\n",
    "\n",
    "    # Create a boolean mask for rows that fall within the date range\n",
    "    mask = (pd.to_datetime(df['date']) >= pd.to_datetime(start_date)) & (pd.to_datetime(df['date']) <= pd.to_datetime(end_date))\n",
    "    len_df = np.shape(df)\n",
    "    df = df[mask] # Use the boolean mask to filter the DataFrame\n",
    "    print('From shape {} to {} after cropping to given date range: {} to {}'.format(len_df,np.shape(df),start_date,end_date))\n",
    "\n",
    "    # Get rid off all non-business days\n",
    "    isBusinessDay, is_open = extract_business_day(start_date,end_date)\n",
    "    is_open = [not i for i in is_open] # Invert the mask to be able to drop all non-buisiness days\n",
    "\n",
    "    filtered_df = df.drop(df[is_open].index) # Use the mask to filter the rows of the DataFrame\n",
    "    print('From shape {} to {} after removing non-business days'.format(np.shape(df),np.shape(filtered_df)))\n",
    "    print(filtered_df)\n",
    "    "
   ]
  }
 ],
 "metadata": {
  "kernelspec": {
   "display_name": "Python 3",
   "language": "python",
   "name": "python3"
  },
  "language_info": {
   "codemirror_mode": {
    "name": "ipython",
    "version": 3
   },
   "file_extension": ".py",
   "mimetype": "text/x-python",
   "name": "python",
   "nbconvert_exporter": "python",
   "pygments_lexer": "ipython3",
   "version": "3.12.7"
  }
 },
 "nbformat": 4,
 "nbformat_minor": 2
}
