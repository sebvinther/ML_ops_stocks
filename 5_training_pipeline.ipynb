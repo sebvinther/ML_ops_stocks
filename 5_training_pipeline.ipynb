{
 "cells": [
  {
   "cell_type": "code",
   "execution_count": 1,
   "metadata": {},
   "outputs": [
    {
     "name": "stdout",
     "output_type": "stream",
     "text": [
      "2024-10-14 19:12:12,995 WARNING: DeprecationWarning: Type google._upb._message.MessageMapContainer uses PyType_Spec with a metaclass that has custom tp_new. This is deprecated and will no longer be allowed in Python 3.14.\n",
      "\n",
      "2024-10-14 19:12:12,996 WARNING: DeprecationWarning: Type google._upb._message.ScalarMapContainer uses PyType_Spec with a metaclass that has custom tp_new. This is deprecated and will no longer be allowed in Python 3.14.\n",
      "\n",
      "2024-10-14 19:12:21,008 WARNING: FutureIncompatibilityWarning: \n",
      "\n",
      "This is a future version incompatibility warning from Holidays library v0.58\n",
      "to inform you about an upcoming change in our API versioning strategy that may affect your\n",
      "project's dependencies. Starting from version 1.0 onwards, we will be following a loose form of\n",
      "Semantic Versioning (SemVer, https://semver.org) to provide clearer communication regarding any\n",
      "potential breaking changes.\n",
      "\n",
      "This means that while we strive to maintain backward compatibility, there might be occasional\n",
      "updates that introduce breaking changes to our API. To ensure the stability of your projects,\n",
      "we highly recommend pinning the version of our API that you rely on. You can pin your current\n",
      "holidays v0.x dependency (e.g., holidays==0.58) or limit it (e.g., holidays<1.0) in order to\n",
      "avoid potentially unwanted upgrade to the version 1.0 when it's released (ETA 2024Q4 - 2025Q1).\n",
      "\n",
      "If you have any questions or concerns regarding this change, please don't hesitate to reach out\n",
      "to us via https://github.com/vacanza/holidays/discussions/1800.\n",
      "\n",
      "\n",
      "2024-10-14 19:12:22,425 ERROR: Importing plotly failed. Interactive plots will not work.\n",
      "Connected. Call `.close()` to terminate connection gracefully.\n",
      "\n",
      "Logged in to project, explore it here https://c.app.hopsworks.ai:443/p/564374\n",
      "2024-10-14 19:12:24,474 WARNING: using legacy validation callback\n",
      "Connected. Call `.close()` to terminate connection gracefully.\n",
      "Connected. Call `.close()` to terminate connection gracefully.\n"
     ]
    }
   ],
   "source": [
    "#Importing necessary libraries\n",
    "import hopsworks\n",
    "import hsfs\n",
    "from dotenv import load_dotenv\n",
    "import os\n",
    "import pandas as pd\n",
    "import numpy as np\n",
    "from sklearn.preprocessing import OneHotEncoder\n",
    "from sklearn.preprocessing import MinMaxScaler\n",
    "from sklearn.metrics import mean_squared_error\n",
    "from hsml.schema import Schema\n",
    "from hsml.model_schema import ModelSchema\n",
    "from tensorflow.keras.models import Sequential\n",
    "from tensorflow.keras.layers import Input, LSTM, Dense, Dropout\n",
    "from sklearn.preprocessing import StandardScaler  # Import StandardScaler from scikit-learn\n",
    "import joblib\n",
    "from prophet import Prophet\n",
    "\n",
    "load_dotenv()\n",
    "\n",
    "#Connecting to hopsworks\n",
    "api_key = os.environ.get('hopsworks_api')\n",
    "project = hopsworks.login(api_key_value=api_key)\n",
    "fs = project.get_feature_store()\n",
    "\n",
    "#Another connection to hopsworks\n",
    "api_key = os.getenv('hopsworks_api')\n",
    "connection = hsfs.connection()\n",
    "fs = connection.get_feature_store()"
   ]
  },
  {
   "cell_type": "code",
   "execution_count": 2,
   "metadata": {},
   "outputs": [],
   "source": [
    "#Getting the feature view\n",
    "feature_view = fs.get_feature_view(\n",
    "    name='amd_stocks_fv',\n",
    "    version=8\n",
    ")"
   ]
  },
  {
   "cell_type": "code",
   "execution_count": 4,
   "metadata": {},
   "outputs": [
    {
     "name": "stdout",
     "output_type": "stream",
     "text": [
      "Finished: Reading data from Hopsworks, using Hopsworks Feature Query Service (1.20s) \n"
     ]
    }
   ],
   "source": [
    "df = feature_view.get_batch_data()\n"
   ]
  },
  {
   "cell_type": "code",
   "execution_count": 5,
   "metadata": {},
   "outputs": [],
   "source": [
    "df['date'] = pd.to_datetime(df['date'])\n"
   ]
  },
  {
   "cell_type": "code",
   "execution_count": 6,
   "metadata": {},
   "outputs": [],
   "source": [
    "df = df.sort_values('date')"
   ]
  },
  {
   "cell_type": "code",
   "execution_count": 7,
   "metadata": {},
   "outputs": [
    {
     "name": "stdout",
     "output_type": "stream",
     "text": [
      "Columns in df:\n",
      "['date', 'f_1__open', 'f_2__high', 'f_3__low', 'f_5__volume', 'ticker']\n"
     ]
    }
   ],
   "source": [
    "print(\"Columns in df:\")\n",
    "print(df.columns.tolist())"
   ]
  },
  {
   "cell_type": "code",
   "execution_count": 8,
   "metadata": {},
   "outputs": [],
   "source": [
    "prophet_df = df[['date', 'f_1__open']].rename(columns={'date': 'ds', 'f_1__open': 'y'})"
   ]
  },
  {
   "cell_type": "code",
   "execution_count": 12,
   "metadata": {},
   "outputs": [
    {
     "name": "stdout",
     "output_type": "stream",
     "text": [
      "Data range in prophet_df: 1999-11-01 to 2024-10-04\n",
      "Training period: 2019-10-05 to 2023-10-04\n",
      "Testing period: 2023-10-05 to 2024-10-04\n",
      "2024-10-14 19:18:54,639 DEBUG: cmd: where.exe tbb.dll\n",
      "cwd: None\n",
      "2024-10-14 19:18:54,700 DEBUG: TBB already found in load path\n",
      "2024-10-14 19:18:54,717 DEBUG: input tempfile: C:\\Users\\svjen\\AppData\\Local\\Temp\\tmp3oa0d5sp\\1fpoek9r.json\n",
      "2024-10-14 19:18:54,782 DEBUG: input tempfile: C:\\Users\\svjen\\AppData\\Local\\Temp\\tmp3oa0d5sp\\x_xirxvv.json\n",
      "2024-10-14 19:18:54,784 DEBUG: idx 0\n",
      "2024-10-14 19:18:54,784 DEBUG: running CmdStan, num_threads: None\n",
      "2024-10-14 19:18:54,785 DEBUG: CmdStan args: ['C:\\\\Users\\\\svjen\\\\OneDrive\\\\Skrivebord\\\\Github_repos\\\\ML_ops_stocks\\\\.conda\\\\Lib\\\\site-packages\\\\prophet\\\\stan_model\\\\prophet_model.bin', 'random', 'seed=50086', 'data', 'file=C:\\\\Users\\\\svjen\\\\AppData\\\\Local\\\\Temp\\\\tmp3oa0d5sp\\\\1fpoek9r.json', 'init=C:\\\\Users\\\\svjen\\\\AppData\\\\Local\\\\Temp\\\\tmp3oa0d5sp\\\\x_xirxvv.json', 'output', 'file=C:\\\\Users\\\\svjen\\\\AppData\\\\Local\\\\Temp\\\\tmp3oa0d5sp\\\\prophet_model71szjlzs\\\\prophet_model-20241014191854.csv', 'method=optimize', 'algorithm=lbfgs', 'iter=10000']\n"
     ]
    },
    {
     "name": "stderr",
     "output_type": "stream",
     "text": [
      "19:18:54 - cmdstanpy - INFO - Chain [1] start processing\n"
     ]
    },
    {
     "name": "stdout",
     "output_type": "stream",
     "text": [
      "2024-10-14 19:18:54,786 INFO: Chain [1] start processing\n"
     ]
    },
    {
     "name": "stderr",
     "output_type": "stream",
     "text": [
      "19:18:55 - cmdstanpy - INFO - Chain [1] done processing\n"
     ]
    },
    {
     "name": "stdout",
     "output_type": "stream",
     "text": [
      "2024-10-14 19:18:55,095 INFO: Chain [1] done processing\n",
      "2024-10-14 19:18:55,206 WARNING: FutureWarning: 'squared' is deprecated in version 1.4 and will be removed in 1.6. To calculate the root mean squared error, use the function'root_mean_squared_error'.\n",
      "\n",
      "\n",
      "Mean Absolute Error (MAE): 108.84622223651132\n",
      "Root Mean Squared Error (RMSE): 120.44656259196707\n"
     ]
    },
    {
     "data": {
      "image/png": "[encoded data removed]",
      "text/plain": [
       "<Figure size 1200x600 with 1 Axes>"
      ]
     },
     "metadata": {},
     "output_type": "display_data"
    }
   ],
   "source": [
    "import pandas as pd\n",
    "from datetime import datetime\n",
    "import matplotlib.pyplot as plt\n",
    "from prophet import Prophet\n",
    "from sklearn.metrics import mean_absolute_error, mean_squared_error\n",
    "\n",
    "\n",
    "# Remove timezone information from 'ds' column\n",
    "prophet_df['ds'] = prophet_df['ds'].dt.tz_localize(None)\n",
    "\n",
    "# Ensure the data is sorted by date\n",
    "prophet_df.sort_values('ds', inplace=True)\n",
    "\n",
    "# Verify the data range in prophet_df\n",
    "print(\"Data range in prophet_df:\", prophet_df['ds'].min().date(), \"to\", prophet_df['ds'].max().date())\n",
    "\n",
    "# Get the maximum date in the data\n",
    "max_date = prophet_df['ds'].max()\n",
    "\n",
    "# Define the testing period (latest year)\n",
    "test_end_date = max_date\n",
    "test_start_date = test_end_date - pd.DateOffset(years=1) + pd.DateOffset(days=1)\n",
    "\n",
    "# Define the training period (4 years prior to testing period)\n",
    "train_end_date = test_start_date - pd.DateOffset(days=1)\n",
    "train_start_date = train_end_date - pd.DateOffset(years=4) + pd.DateOffset(days=1)\n",
    "\n",
    "# Convert date ranges to strings for display\n",
    "print(f\"Training period: {train_start_date.date()} to {train_end_date.date()}\")\n",
    "print(f\"Testing period: {test_start_date.date()} to {test_end_date.date()}\")\n",
    "\n",
    "# Split the data\n",
    "train_df = prophet_df[\n",
    "    (prophet_df['ds'] >= train_start_date) & (prophet_df['ds'] <= train_end_date)\n",
    "].copy()\n",
    "\n",
    "test_df = prophet_df[\n",
    "    (prophet_df['ds'] >= test_start_date) & (prophet_df['ds'] <= test_end_date)\n",
    "].copy()\n",
    "\n",
    "# Check if test_df is not empty\n",
    "if test_df.empty:\n",
    "    print(\"Test DataFrame is empty. Please check the test date range.\")\n",
    "else:\n",
    "    # Proceed with modeling\n",
    "    model = Prophet(daily_seasonality=True)\n",
    "    model.fit(train_df)\n",
    "    \n",
    "    # Using the dates from the test set for prediction\n",
    "    future_dates = test_df[['ds']]\n",
    "    \n",
    "    # Generate forecasts\n",
    "    forecast = model.predict(future_dates)\n",
    "    \n",
    "    # Merge the forecast with the actual test data\n",
    "    forecast_df = forecast[['ds', 'yhat']].set_index('ds')\n",
    "    actual_df = test_df.set_index('ds')\n",
    "    \n",
    "    comparison_df = actual_df.join(forecast_df, how='left').dropna()\n",
    "    \n",
    "    # Sort the data by date (ascending order)\n",
    "    comparison_df.sort_index(inplace=True)\n",
    "    \n",
    "    # Compute evaluation metrics\n",
    "    mae = mean_absolute_error(comparison_df['y'], comparison_df['yhat'])\n",
    "    rmse = mean_squared_error(comparison_df['y'], comparison_df['yhat'], squared=False)\n",
    "    \n",
    "    print(f\"\\nMean Absolute Error (MAE): {mae}\")\n",
    "    print(f\"Root Mean Squared Error (RMSE): {rmse}\")\n",
    "    \n",
    "    # Visualize the results\n",
    "    plt.figure(figsize=(12, 6))\n",
    "    plt.plot(comparison_df.index, comparison_df['y'], label='Actual')\n",
    "    plt.plot(comparison_df.index, comparison_df['yhat'], label='Predicted')\n",
    "    plt.legend()\n",
    "    plt.title('Actual vs. Predicted AMD Stock Prices')\n",
    "    plt.xlabel('Date')\n",
    "    plt.ylabel('Price')\n",
    "    plt.show()\n"
   ]
  },
  {
   "cell_type": "code",
   "execution_count": 25,
   "metadata": {},
   "outputs": [
    {
     "name": "stdout",
     "output_type": "stream",
     "text": [
      "Connection closed.\n",
      "Connected. Call `.close()` to terminate connection gracefully.\n"
     ]
    },
    {
     "name": "stdout",
     "output_type": "stream",
     "text": [
      "\n",
      "Logged in to project, explore it here https://c.app.hopsworks.ai:443/p/564374\n",
      "Connected. Call `.close()` to terminate connection gracefully.\n"
     ]
    },
    {
     "data": {
      "application/vnd.jupyter.widget-view+json": {
       "model_id": "ee00327ac6254cccadb4ccda62a36bd7",
       "version_major": 2,
       "version_minor": 0
      },
      "text/plain": [
       "  0%|          | 0/6 [00:00<?, ?it/s]"
      ]
     },
     "metadata": {},
     "output_type": "display_data"
    },
    {
     "data": {
      "application/vnd.jupyter.widget-view+json": {
       "model_id": "76bd65d9d1c6485487e798a4f44abcfb",
       "version_major": 2,
       "version_minor": 0
      },
      "text/plain": [
       "Uploading: 0.000%|          | 0/108203 elapsed<00:00 remaining<?"
      ]
     },
     "metadata": {},
     "output_type": "display_data"
    },
    {
     "data": {
      "application/vnd.jupyter.widget-view+json": {
       "model_id": "15b4e502708d405c926489a426f216ee",
       "version_major": 2,
       "version_minor": 0
      },
      "text/plain": [
       "Uploading: 0.000%|          | 0/23 elapsed<00:00 remaining<?"
      ]
     },
     "metadata": {},
     "output_type": "display_data"
    },
    {
     "data": {
      "application/vnd.jupyter.widget-view+json": {
       "model_id": "e37827e4fa9643da935cd339de87a90b",
       "version_major": 2,
       "version_minor": 0
      },
      "text/plain": [
       "Uploading: 0.000%|          | 0/269 elapsed<00:00 remaining<?"
      ]
     },
     "metadata": {},
     "output_type": "display_data"
    },
    {
     "name": "stdout",
     "output_type": "stream",
     "text": [
      "Model created, explore it at https://c.app.hopsworks.ai:443/p/564374/models/ProphetModel/2\n",
      "Model 'ProphetModel' saved successfully to the Hopsworks Model Registry.\n"
     ]
    }
   ],
   "source": [
    "import joblib\n",
    "import hopsworks\n",
    "import os\n",
    "import shutil\n",
    "from hsml.schema import Schema\n",
    "from hsml.model_schema import ModelSchema\n",
    "\n",
    "# Save the trained Prophet model to a file\n",
    "joblib.dump(model, 'prophet_model.pkl')\n",
    "\n",
    "# Get your Hopsworks API key (ensure it's set in your environment variables)\n",
    "api_key = os.environ.get('hopsworks_api')\n",
    "\n",
    "# Log in to Hopsworks\n",
    "project = hopsworks.login(api_key_value=api_key)\n",
    "\n",
    "# Get the model registry\n",
    "mr = project.get_model_registry()\n",
    "\n",
    "# Define the model name and metadata\n",
    "model_name = \"ProphetModel\"\n",
    "description = \"Prophet model for time series forecasting AMD stock prices\"\n",
    "\n",
    "# Prepare the input example (pandas DataFrame)\n",
    "input_example = train_df[['ds']].head(1)\n",
    "input_schema = Schema(input_example)\n",
    "\n",
    "# Prepare the output example (pandas DataFrame)\n",
    "output_example = forecast[['yhat']].head(1)\n",
    "output_schema = Schema(output_example)\n",
    "\n",
    "# Create the model schema\n",
    "model_schema = ModelSchema(input_schema=input_schema, output_schema=output_schema)\n",
    "\n",
    "# Define evaluation metrics\n",
    "metrics = {\n",
    "    'MAE': mae,\n",
    "    'RMSE': rmse\n",
    "}\n",
    "\n",
    "# Create the model in the registry\n",
    "model_registry_entry = mr.python.create_model(\n",
    "    name=model_name,\n",
    "    description=description,\n",
    "    input_example=input_example,\n",
    "    model_schema=model_schema,\n",
    "    metrics=metrics\n",
    ")\n",
    "\n",
    "# Ensure the model directory exists\n",
    "model_dir = 'prophet_model_dir'\n",
    "os.makedirs(model_dir, exist_ok=True)\n",
    "\n",
    "# Move the model file into the model directory\n",
    "shutil.move('prophet_model.pkl', os.path.join(model_dir, 'prophet_model.pkl'))\n",
    "\n",
    "# Save the model artifacts to Hopsworks\n",
    "model_registry_entry.save(model_dir)\n",
    "\n",
    "print(f\"Model '{model_name}' saved successfully to the Hopsworks Model Registry.\")\n"
   ]
  }
 ],
 "metadata": {
  "kernelspec": {
   "display_name": "Python 3",
   "language": "python",
   "name": "python3"
  },
  "language_info": {
   "codemirror_mode": {
    "name": "ipython",
    "version": 3
   },
   "file_extension": ".py",
   "mimetype": "text/x-python",
   "name": "python",
   "nbconvert_exporter": "python",
   "pygments_lexer": "ipython3",
   "version": "3.12.7"
  }
 },
 "nbformat": 4,
 "nbformat_minor": 2
}
