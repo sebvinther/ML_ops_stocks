{
 "cells": [
  {
   "cell_type": "code",
   "execution_count": 30,
   "metadata": {},
   "outputs": [
    {
     "name": "stdout",
     "output_type": "stream",
     "text": [
      "Connection closed.\n",
      "Connected. Call `.close()` to terminate connection gracefully.\n",
      "\n",
      "Logged in to project, explore it here https://c.app.hopsworks.ai:443/p/564374\n",
      "Connected. Call `.close()` to terminate connection gracefully.\n",
      "Connected. Call `.close()` to terminate connection gracefully.\n"
     ]
    }
   ],
   "source": [
    "#Importing necessary libraries\n",
    "import hopsworks\n",
    "import hsfs\n",
    "from dotenv import load_dotenv\n",
    "import os\n",
    "import pandas as pd\n",
    "import numpy as np\n",
    "from sklearn.preprocessing import OneHotEncoder\n",
    "from sklearn.preprocessing import MinMaxScaler\n",
    "from sklearn.metrics import mean_squared_error\n",
    "from hsml.schema import Schema\n",
    "from hsml.model_schema import ModelSchema\n",
    "from tensorflow.keras.models import Sequential\n",
    "from tensorflow.keras.layers import Input, LSTM, Dense, Dropout\n",
    "from sklearn.preprocessing import StandardScaler  # Import StandardScaler from scikit-learn\n",
    "import joblib\n",
    "from prophet import Prophet\n",
    "\n",
    "load_dotenv()\n",
    "\n",
    "#Connecting to hopsworks\n",
    "api_key = os.environ.get('HOPSWORKS_API')\n",
    "project = hopsworks.login(api_key_value=api_key)\n",
    "fs = project.get_feature_store()\n",
    "\n",
    "#Another connection to hopsworks\n",
    "api_key = os.getenv('HOPSWORKS_API')\n",
    "connection = hsfs.connection()\n",
    "fs = connection.get_feature_store()"
   ]
  },
  {
   "cell_type": "code",
   "execution_count": 31,
   "metadata": {},
   "outputs": [],
   "source": [
    "#Getting the feature view\n",
    "feature_view = fs.get_feature_view(\n",
    "    name='amd_stock_fv',\n",
    "    version=23\n",
    ")"
   ]
  },
  {
   "cell_type": "code",
   "execution_count": 32,
   "metadata": {},
   "outputs": [
    {
     "name": "stdout",
     "output_type": "stream",
     "text": [
      "2024-10-16 18:33:13,497 WARNING: DeprecationWarning: ssl.PROTOCOL_TLS is deprecated\n",
      "\n",
      "Finished: Reading data from Hopsworks, using Hive (2.60s) \n"
     ]
    }
   ],
   "source": [
    "df = feature_view.get_batch_data(read_options={\"use_hive\": True})\n"
   ]
  },
  {
   "cell_type": "code",
   "execution_count": 5,
   "metadata": {},
   "outputs": [
    {
     "name": "stdout",
     "output_type": "stream",
     "text": [
      "Sample 'date' values before conversion:\n",
      "0   2001-02-27\n",
      "1   2018-02-23\n",
      "2   2005-01-21\n",
      "3   2003-11-24\n",
      "4   2002-12-13\n",
      "Name: date, dtype: datetime64[ns]\n"
     ]
    }
   ],
   "source": [
    "# Inspect sample 'date' values before conversion\n",
    "print(\"Sample 'date' values before conversion:\")\n",
    "print(df['date'].head())"
   ]
  },
  {
   "cell_type": "code",
   "execution_count": 33,
   "metadata": {},
   "outputs": [],
   "source": [
    "# Convert 'date' to datetime with error handling\n",
    "df['date'] = pd.to_datetime(df['date'], errors='coerce')\n"
   ]
  },
  {
   "cell_type": "code",
   "execution_count": 9,
   "metadata": {},
   "outputs": [],
   "source": [
    "# Drop rows with invalid 'date'\n",
    "initial_count = len(df)\n",
    "df = df.dropna(subset=['date'])\n",
    "dropped_count = initial_count - len(df)\n",
    "if dropped_count > 0:\n",
    "    print(f\"Dropped {dropped_count} rows due to invalid 'date'.\")\n"
   ]
  },
  {
   "cell_type": "code",
   "execution_count": 10,
   "metadata": {},
   "outputs": [],
   "source": [
    "df = df.sort_values('date')"
   ]
  },
  {
   "cell_type": "code",
   "execution_count": 11,
   "metadata": {},
   "outputs": [
    {
     "name": "stdout",
     "output_type": "stream",
     "text": [
      "Columns in df:\n",
      "['date', 'f_1__open']\n"
     ]
    }
   ],
   "source": [
    "print(\"Columns in df:\")\n",
    "print(df.columns.tolist())"
   ]
  },
  {
   "cell_type": "code",
   "execution_count": 25,
   "metadata": {},
   "outputs": [
    {
     "data": {
      "text/html": [
       "<div>\n",
       "<style scoped>\n",
       "    .dataframe tbody tr th:only-of-type {\n",
       "        vertical-align: middle;\n",
       "    }\n",
       "\n",
       "    .dataframe tbody tr th {\n",
       "        vertical-align: top;\n",
       "    }\n",
       "\n",
       "    .dataframe thead th {\n",
       "        text-align: right;\n",
       "    }\n",
       "</style>\n",
       "<table border=\"1\" class=\"dataframe\">\n",
       "  <thead>\n",
       "    <tr style=\"text-align: right;\">\n",
       "      <th></th>\n",
       "      <th>date</th>\n",
       "      <th>f_1__open</th>\n",
       "    </tr>\n",
       "  </thead>\n",
       "  <tbody>\n",
       "    <tr>\n",
       "      <th>2122</th>\n",
       "      <td>1999-11-01</td>\n",
       "      <td>19.94</td>\n",
       "    </tr>\n",
       "    <tr>\n",
       "      <th>28</th>\n",
       "      <td>1999-11-02</td>\n",
       "      <td>20.31</td>\n",
       "    </tr>\n",
       "    <tr>\n",
       "      <th>2381</th>\n",
       "      <td>1999-11-03</td>\n",
       "      <td>20.69</td>\n",
       "    </tr>\n",
       "    <tr>\n",
       "      <th>658</th>\n",
       "      <td>1999-11-04</td>\n",
       "      <td>21.13</td>\n",
       "    </tr>\n",
       "    <tr>\n",
       "      <th>1163</th>\n",
       "      <td>1999-11-05</td>\n",
       "      <td>20.75</td>\n",
       "    </tr>\n",
       "  </tbody>\n",
       "</table>\n",
       "</div>"
      ],
      "text/plain": [
       "           date  f_1__open\n",
       "2122 1999-11-01      19.94\n",
       "28   1999-11-02      20.31\n",
       "2381 1999-11-03      20.69\n",
       "658  1999-11-04      21.13\n",
       "1163 1999-11-05      20.75"
      ]
     },
     "execution_count": 25,
     "metadata": {},
     "output_type": "execute_result"
    }
   ],
   "source": [
    "df.head()"
   ]
  },
  {
   "cell_type": "code",
   "execution_count": 12,
   "metadata": {},
   "outputs": [
    {
     "name": "stdout",
     "output_type": "stream",
     "text": [
      "Columns in Prophet_df:\n",
      "['ds', 'y']\n"
     ]
    }
   ],
   "source": [
    "# Prepare prophet_df\n",
    "prophet_df = df[['date', 'f_1__open']].rename(columns={'date': 'ds', 'f_1__open': 'y'})\n",
    "print(\"Columns in Prophet_df:\")\n",
    "print(prophet_df.columns.tolist())"
   ]
  },
  {
   "cell_type": "code",
   "execution_count": 13,
   "metadata": {},
   "outputs": [
    {
     "name": "stdout",
     "output_type": "stream",
     "text": [
      "Sample 'ds' values after conversion:\n",
      "2122   1999-11-01\n",
      "28     1999-11-02\n",
      "2381   1999-11-03\n",
      "658    1999-11-04\n",
      "1163   1999-11-05\n",
      "Name: ds, dtype: datetime64[ns]\n"
     ]
    }
   ],
   "source": [
    "# Inspect sample 'ds' values after conversion\n",
    "print(\"Sample 'ds' values after conversion:\")\n",
    "print(prophet_df['ds'].head())"
   ]
  },
  {
   "cell_type": "code",
   "execution_count": 15,
   "metadata": {},
   "outputs": [],
   "source": [
    "# Remove timezone information from 'ds' column\n",
    "prophet_df['ds'] = prophet_df['ds'].dt.tz_localize(None)"
   ]
  },
  {
   "cell_type": "code",
   "execution_count": 16,
   "metadata": {},
   "outputs": [],
   "source": [
    "# Ensure the data is sorted by date\n",
    "prophet_df.sort_values('ds', inplace=True)"
   ]
  },
  {
   "cell_type": "code",
   "execution_count": 37,
   "metadata": {},
   "outputs": [
    {
     "data": {
      "text/plain": [
       "2122   1999-11-01\n",
       "28     1999-11-02\n",
       "2381   1999-11-03\n",
       "658    1999-11-04\n",
       "1163   1999-11-05\n",
       "Name: ds, dtype: datetime64[ns]"
      ]
     },
     "execution_count": 37,
     "metadata": {},
     "output_type": "execute_result"
    }
   ],
   "source": [
    "prophet_df['ds'].head()"
   ]
  },
  {
   "cell_type": "code",
   "execution_count": 17,
   "metadata": {},
   "outputs": [
    {
     "name": "stdout",
     "output_type": "stream",
     "text": [
      "Data range in prophet_df: 1999-11-01 to 2024-10-15\n"
     ]
    }
   ],
   "source": [
    "# Verify the data range in prophet_df\n",
    "if prophet_df['ds'].isnull().all():\n",
    "    print(\"Data range in prophet_df: NaT to NaT\")\n",
    "else:\n",
    "    min_date = prophet_df['ds'].min()\n",
    "    max_date = prophet_df['ds'].max()\n",
    "    print(\"Data range in prophet_df:\", min_date.date(), \"to\", max_date.date())"
   ]
  },
  {
   "cell_type": "code",
   "execution_count": 18,
   "metadata": {},
   "outputs": [],
   "source": [
    "# Define train and test split dates as specified\n",
    "train_start = \"2020-03-10\"\n",
    "train_end = \"2023-12-31\"\n",
    "\n",
    "test_start = \"2024-01-01\"\n",
    "test_end = \"2024-10-14\"\n",
    "\n",
    "train_start_date = pd.to_datetime(train_start)\n",
    "train_end_date = pd.to_datetime(train_end)\n",
    "test_start_date = pd.to_datetime(test_start)\n",
    "test_end_date = pd.to_datetime(test_end)\n"
   ]
  },
  {
   "cell_type": "code",
   "execution_count": 20,
   "metadata": {},
   "outputs": [
    {
     "name": "stdout",
     "output_type": "stream",
     "text": [
      "Training period: 2020-03-10 to 2023-12-31\n",
      "Testing period: 2024-01-01 to 2024-10-14\n",
      "Training DataFrame has 960 records.\n",
      "Testing DataFrame has 198 records.\n"
     ]
    }
   ],
   "source": [
    "# Check if max_date is valid\n",
    "if pd.isnull(max_date):\n",
    "    print(\"Maximum date is NaT. Cannot proceed with splitting.\")\n",
    "else:\n",
    "    # Check if test_start_date is after max_date\n",
    "    if test_start_date > max_date:\n",
    "        print(\"Test start date is after the last date in the data. Adjusting test_start_date.\")\n",
    "        test_start_date = max_date - pd.DateOffset(years=1) + pd.DateOffset(days=1)\n",
    "        print(f\"Adjusted test_start_date to: {test_start_date.date()}\")\n",
    "    \n",
    "    # Check if test_end_date is after max_date\n",
    "    if test_end_date > max_date:\n",
    "        print(\"Test end date is after the last date in the data. Adjusting test_end_date.\")\n",
    "        test_end_date = max_date\n",
    "        print(f\"Adjusted test_end_date to: {test_end_date.date()}\")\n",
    "    \n",
    "    print(f\"Training period: {train_start_date.date()} to {train_end_date.date()}\")\n",
    "    print(f\"Testing period: {test_start_date.date()} to {test_end_date.date()}\")\n",
    "\n",
    "     # Split the data\n",
    "    train_df = prophet_df[\n",
    "        (prophet_df['ds'] >= train_start_date) & (prophet_df['ds'] <= train_end_date)\n",
    "    ].copy()\n",
    "    \n",
    "    test_df = prophet_df[\n",
    "        (prophet_df['ds'] >= test_start_date) & (prophet_df['ds'] <= test_end_date)\n",
    "    ].copy()\n",
    "    \n",
    "    print(f\"Training DataFrame has {len(train_df)} records.\")\n",
    "    print(f\"Testing DataFrame has {len(test_df)} records.\")"
   ]
  },
  {
   "cell_type": "code",
   "execution_count": 22,
   "metadata": {},
   "outputs": [
    {
     "name": "stdout",
     "output_type": "stream",
     "text": [
      "2024-10-16 17:55:21,730 DEBUG: cmd: where.exe tbb.dll\n",
      "cwd: None\n",
      "2024-10-16 17:55:21,789 DEBUG: TBB already found in load path\n",
      "2024-10-16 17:55:21,809 DEBUG: input tempfile: C:\\Users\\svjen\\AppData\\Local\\Temp\\tmphgm8fgao\\fdjm3qvh.json\n",
      "2024-10-16 17:55:21,870 DEBUG: input tempfile: C:\\Users\\svjen\\AppData\\Local\\Temp\\tmphgm8fgao\\jyezyfap.json\n",
      "2024-10-16 17:55:21,873 DEBUG: idx 0\n",
      "2024-10-16 17:55:21,874 DEBUG: running CmdStan, num_threads: None\n",
      "2024-10-16 17:55:21,874 DEBUG: CmdStan args: ['C:\\\\Users\\\\svjen\\\\OneDrive\\\\Skrivebord\\\\Github_repos\\\\ML_ops_stocks\\\\.conda\\\\Lib\\\\site-packages\\\\prophet\\\\stan_model\\\\prophet_model.bin', 'random', 'seed=69631', 'data', 'file=C:\\\\Users\\\\svjen\\\\AppData\\\\Local\\\\Temp\\\\tmphgm8fgao\\\\fdjm3qvh.json', 'init=C:\\\\Users\\\\svjen\\\\AppData\\\\Local\\\\Temp\\\\tmphgm8fgao\\\\jyezyfap.json', 'output', 'file=C:\\\\Users\\\\svjen\\\\AppData\\\\Local\\\\Temp\\\\tmphgm8fgao\\\\prophet_modelwnouca5o\\\\prophet_model-20241016175521.csv', 'method=optimize', 'algorithm=lbfgs', 'iter=10000']\n"
     ]
    },
    {
     "name": "stderr",
     "output_type": "stream",
     "text": [
      "17:55:21 - cmdstanpy - INFO - Chain [1] start processing\n"
     ]
    },
    {
     "name": "stdout",
     "output_type": "stream",
     "text": [
      "2024-10-16 17:55:21,875 INFO: Chain [1] start processing\n"
     ]
    },
    {
     "name": "stderr",
     "output_type": "stream",
     "text": [
      "17:55:22 - cmdstanpy - INFO - Chain [1] done processing\n"
     ]
    },
    {
     "name": "stdout",
     "output_type": "stream",
     "text": [
      "2024-10-16 17:55:22,069 INFO: Chain [1] done processing\n",
      "Prophet model trained successfully.\n",
      "2024-10-16 17:55:22,147 WARNING: FutureWarning: 'squared' is deprecated in version 1.4 and will be removed in 1.6. To calculate the root mean squared error, use the function'root_mean_squared_error'.\n",
      "\n",
      "\n",
      "Mean Absolute Error (MAE): 30.703328626950128\n",
      "Root Mean Squared Error (RMSE): 36.293742568320745\n"
     ]
    },
    {
     "data": {
      "image/png": "[encoded data removed]",
      "text/plain": [
       "<Figure size 1200x600 with 1 Axes>"
      ]
     },
     "metadata": {},
     "output_type": "display_data"
    },
    {
     "name": "stdout",
     "output_type": "stream",
     "text": [
      "Prophet model saved successfully as 'prophet_model.pkl'.\n",
      "Connected. Call `.close()` to terminate connection gracefully.\n",
      "Accessed Hopsworks Model Registry.\n",
      "Model 'ProphetModel' created successfully in the registry.\n",
      "Moved model file to 'prophet_model_dir'.\n"
     ]
    },
    {
     "data": {
      "application/vnd.jupyter.widget-view+json": {
       "model_id": "c67d7244fd6a4bddbe1311feefb5d20d",
       "version_major": 2,
       "version_minor": 0
      },
      "text/plain": [
       "  0%|          | 0/6 [00:00<?, ?it/s]"
      ]
     },
     "metadata": {},
     "output_type": "display_data"
    },
    {
     "data": {
      "application/vnd.jupyter.widget-view+json": {
       "model_id": "0cb275732acd4e03b810864b0c28fe4e",
       "version_major": 2,
       "version_minor": 0
      },
      "text/plain": [
       "Uploading: 0.000%|          | 0/103835 elapsed<00:00 remaining<?"
      ]
     },
     "metadata": {},
     "output_type": "display_data"
    },
    {
     "data": {
      "application/vnd.jupyter.widget-view+json": {
       "model_id": "a2171d6f6458428fbeba891b7e5e8e9f",
       "version_major": 2,
       "version_minor": 0
      },
      "text/plain": [
       "Uploading: 0.000%|          | 0/23 elapsed<00:00 remaining<?"
      ]
     },
     "metadata": {},
     "output_type": "display_data"
    },
    {
     "data": {
      "application/vnd.jupyter.widget-view+json": {
       "model_id": "cd041477f1894c6daf99a2baa50a986b",
       "version_major": 2,
       "version_minor": 0
      },
      "text/plain": [
       "Uploading: 0.000%|          | 0/269 elapsed<00:00 remaining<?"
      ]
     },
     "metadata": {},
     "output_type": "display_data"
    },
    {
     "name": "stdout",
     "output_type": "stream",
     "text": [
      "Model created, explore it at https://c.app.hopsworks.ai:443/p/564374/models/ProphetModel/15\n",
      "Model 'ProphetModel' saved successfully to the Hopsworks Model Registry.\n"
     ]
    }
   ],
   "source": [
    "import hopsworks\n",
    "from dotenv import load_dotenv\n",
    "import os\n",
    "import pandas as pd\n",
    "from sklearn.metrics import mean_squared_error, mean_absolute_error\n",
    "from prophet import Prophet\n",
    "import matplotlib.pyplot as plt\n",
    "import joblib\n",
    "import shutil\n",
    "from hsml.schema import Schema\n",
    "from hsml.model_schema import ModelSchema\n",
    "\n",
    "\n",
    "# Check if test_df is not empty and ds has valid dates\n",
    "if test_df.empty or prophet_df['ds'].isnull().all():\n",
    "    print(\"Test DataFrame is empty or 'ds' contains only NaT. Please check the test date range.\")\n",
    "else:\n",
    "    # Proceed with modeling\n",
    "    model = Prophet(daily_seasonality=True)\n",
    "    model.fit(train_df)\n",
    "    print(\"Prophet model trained successfully.\")\n",
    "    \n",
    "    # Using the dates from the test set for prediction\n",
    "    future_dates = test_df[['ds']]\n",
    "    \n",
    "    # Generate forecasts\n",
    "    forecast = model.predict(future_dates)\n",
    "    \n",
    "    # Merge the forecast with the actual test data\n",
    "    forecast_df = forecast[['ds', 'yhat']].set_index('ds')\n",
    "    actual_df = test_df.set_index('ds')\n",
    "    \n",
    "    comparison_df = actual_df.join(forecast_df, how='left').dropna()\n",
    "    \n",
    "    # Sort the data by date (ascending order)\n",
    "    comparison_df.sort_index(inplace=True)\n",
    "    \n",
    "    # Compute evaluation metrics\n",
    "    mae = mean_absolute_error(comparison_df['y'], comparison_df['yhat'])\n",
    "    rmse = mean_squared_error(comparison_df['y'], comparison_df['yhat'], squared=False)\n",
    "    \n",
    "    print(f\"\\nMean Absolute Error (MAE): {mae}\")\n",
    "    print(f\"Root Mean Squared Error (RMSE): {rmse}\")\n",
    "    \n",
    "    # Visualize the results\n",
    "    plt.figure(figsize=(12, 6))\n",
    "    plt.plot(comparison_df.index, comparison_df['y'], label='Actual')\n",
    "    plt.plot(comparison_df.index, comparison_df['yhat'], label='Predicted')\n",
    "    plt.legend()\n",
    "    plt.title('Actual vs. Predicted AMD Stock Prices')\n",
    "    plt.xlabel('Date')\n",
    "    plt.ylabel('Price')\n",
    "    plt.show()\n",
    "    \n",
    "    # Save the trained Prophet model to a file\n",
    "    joblib.dump(model, 'prophet_model.pkl')\n",
    "    print(\"Prophet model saved successfully as 'prophet_model.pkl'.\")\n",
    "    \n",
    "    \n",
    "    # Register the model with Hopsworks Model Registry\n",
    "    # Get the model registry\n",
    "    mr = project.get_model_registry()\n",
    "    print(\"Accessed Hopsworks Model Registry.\")\n",
    "    \n",
    "    # Define the model name and metadata\n",
    "    model_name = \"ProphetModel\"\n",
    "    description = \"Prophet model for time series forecasting AMD stock prices\"\n",
    "    \n",
    "    # Prepare the input example \n",
    "    input_example = train_df[['ds']].head(1)\n",
    "    input_schema = Schema(input_example)\n",
    "    \n",
    "    # Prepare the output example\n",
    "    output_example = forecast[['yhat']].head(1)\n",
    "    output_schema = Schema(output_example)\n",
    "    \n",
    "    # Create the model schema\n",
    "    model_schema = ModelSchema(input_schema=input_schema, output_schema=output_schema)\n",
    "    \n",
    "    # Define evaluation metrics\n",
    "    metrics = {\n",
    "        'MAE': mae,\n",
    "        'RMSE': rmse\n",
    "    }\n",
    "    \n",
    "    # Create the model in the registry\n",
    "    model_registry_entry = mr.python.create_model(\n",
    "        name=model_name,\n",
    "        description=description,\n",
    "        input_example=input_example,\n",
    "        model_schema=model_schema,\n",
    "        metrics=metrics\n",
    "    )\n",
    "    print(f\"Model '{model_name}' created successfully in the registry.\")\n",
    "    \n",
    "    # Ensure the model directory exists\n",
    "    model_dir = 'prophet_model_dir'\n",
    "    os.makedirs(model_dir, exist_ok=True)\n",
    "    \n",
    "    # Move the model file into the model directory\n",
    "    shutil.move('prophet_model.pkl', os.path.join(model_dir, 'prophet_model.pkl'))\n",
    "    print(f\"Moved model file to '{model_dir}'.\")\n",
    "    \n",
    "    # Save the model artifacts to Hopsworks\n",
    "    model_registry_entry.save(model_dir)\n",
    "    print(f\"Model '{model_name}' saved successfully to the Hopsworks Model Registry.\")"
   ]
  },
  {
   "cell_type": "code",
   "execution_count": 38,
   "metadata": {},
   "outputs": [
    {
     "name": "stdout",
     "output_type": "stream",
     "text": [
      "Connection closed.\n",
      "Connected. Call `.close()` to terminate connection gracefully.\n",
      "\n",
      "Logged in to project, explore it here https://c.app.hopsworks.ai:443/p/564374\n",
      "Connected. Call `.close()` to terminate connection gracefully.\n",
      "Training dataset job started successfully, you can follow the progress at \n",
      "https://c.app.hopsworks.ai/p/564374/jobs/named/amd_stock_fv_25_create_fv_td_16102024165531/executions\n",
      "2024-10-16 18:56:45,448 WARNING: VersionWarning: Incremented version to `1`.\n",
      "\n"
     ]
    },
    {
     "data": {
      "text/plain": [
       "(1, <hsfs.core.job.Job at 0x1f79012f260>)"
      ]
     },
     "execution_count": 38,
     "metadata": {},
     "output_type": "execute_result"
    }
   ],
   "source": [
    "api_key = os.environ.get('HOPSWORKS_API')\n",
    "if not api_key:\n",
    "    raise ValueError(\"HOPSWORKS_API environment variable is not set or is empty.\")\n",
    "\n",
    "\n",
    "# Login to your Hopsworks project\n",
    "project = hopsworks.login(api_key_value=api_key)\n",
    "fs = project.get_feature_store()\n",
    "\n",
    "\n",
    "# Retrieve the feature view\n",
    "feature_view = fs.get_feature_view(\n",
    "    name='amd_stock_fv',\n",
    "    version=25\n",
    ")\n",
    "\n",
    "\n",
    "# Setting up train & test split dates\n",
    "train_start = \"2020-03-10\"\n",
    "train_end = \"2023-12-31\"\n",
    "\n",
    "\n",
    "test_start = \"2024-01-01\"\n",
    "test_end = \"2024-10-14\"\n",
    "\n",
    "\n",
    "# Creating the train/test split on the feature view with the split dates\n",
    "feature_view.create_train_test_split(\n",
    "    train_start=train_start,\n",
    "    train_end=train_end,\n",
    "    test_start=test_start,\n",
    "    test_end=test_end,\n",
    "    data_format='csv',\n",
    "    coalesce=True,\n",
    "    statistics_config={'histogram': True, 'correlations': True}\n",
    ")\n"
   ]
  }
 ],
 "metadata": {
  "kernelspec": {
   "display_name": "Python 3",
   "language": "python",
   "name": "python3"
  },
  "language_info": {
   "codemirror_mode": {
    "name": "ipython",
    "version": 3
   },
   "file_extension": ".py",
   "mimetype": "text/x-python",
   "name": "python",
   "nbconvert_exporter": "python",
   "pygments_lexer": "ipython3",
   "version": "3.12.7"
  }
 },
 "nbformat": 4,
 "nbformat_minor": 2
}
