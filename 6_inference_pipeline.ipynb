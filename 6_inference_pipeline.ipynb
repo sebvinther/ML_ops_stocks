{
 "cells": [
  {
   "cell_type": "code",
   "execution_count": 28,
   "metadata": {},
   "outputs": [
    {
     "data": {
      "text/plain": [
       "True"
      ]
     },
     "execution_count": 28,
     "metadata": {},
     "output_type": "execute_result"
    }
   ],
   "source": [
    "import pandas as pd \n",
    "import hopsworks \n",
    "from datetime import datetime, timedelta\n",
    "\n",
    "import numpy as np\n",
    "\n",
    "\n",
    "\n",
    "#Making the notebook able to fetch from the .env file\n",
    "from dotenv import load_dotenv\n",
    "import os\n",
    "\n",
    "load_dotenv()"
   ]
  },
  {
   "cell_type": "code",
   "execution_count": 29,
   "metadata": {},
   "outputs": [
    {
     "name": "stdout",
     "output_type": "stream",
     "text": [
      "Connection closed.\n",
      "Connected. Call `.close()` to terminate connection gracefully.\n"
     ]
    },
    {
     "name": "stdout",
     "output_type": "stream",
     "text": [
      "\n",
      "Logged in to project, explore it here https://c.app.hopsworks.ai:443/p/564374\n",
      "Connected. Call `.close()` to terminate connection gracefully.\n",
      "Connected. Call `.close()` to terminate connection gracefully.\n"
     ]
    }
   ],
   "source": [
    "api_key = os.environ.get('HOPSWORKS_API')\n",
    "project = hopsworks.login(api_key_value=api_key)\n",
    "fs = project.get_feature_store()\n",
    "mr = project.get_model_registry() "
   ]
  },
  {
   "cell_type": "code",
   "execution_count": 30,
   "metadata": {},
   "outputs": [
    {
     "name": "stdout",
     "output_type": "stream",
     "text": [
      "2024-10-14\n"
     ]
    }
   ],
   "source": [
    "start_date = datetime.now() - timedelta(hours=48)\n",
    "print(start_date.strftime(\"%Y-%m-%d\"))"
   ]
  },
  {
   "cell_type": "code",
   "execution_count": 31,
   "metadata": {},
   "outputs": [
    {
     "name": "stdout",
     "output_type": "stream",
     "text": [
      "2024-10-15\n"
     ]
    }
   ],
   "source": [
    "end_date = datetime.now() - timedelta(hours=24)\n",
    "print(end_date.strftime(\"%Y-%m-%d\"))"
   ]
  },
  {
   "cell_type": "code",
   "execution_count": 36,
   "metadata": {},
   "outputs": [],
   "source": [
    "feature_view = fs.get_feature_view('amd_stock_fv', 12)\n",
    "feature_view.init_batch_scoring(training_dataset_version=1)"
   ]
  },
  {
   "cell_type": "code",
   "execution_count": 37,
   "metadata": {},
   "outputs": [
    {
     "name": "stdout",
     "output_type": "stream",
     "text": [
      "2024-10-16 18:51:12,199 WARNING: DeprecationWarning: ssl.PROTOCOL_TLS is deprecated\n",
      "\n",
      "Finished: Reading data from Hopsworks, using Hive (2.68s) \n"
     ]
    }
   ],
   "source": [
    "df = feature_view.get_batch_data(read_options={\"use_hive\": True})"
   ]
  },
  {
   "cell_type": "code",
   "execution_count": 38,
   "metadata": {},
   "outputs": [
    {
     "data": {
      "text/html": [
       "<div>\n",
       "<style scoped>\n",
       "    .dataframe tbody tr th:only-of-type {\n",
       "        vertical-align: middle;\n",
       "    }\n",
       "\n",
       "    .dataframe tbody tr th {\n",
       "        vertical-align: top;\n",
       "    }\n",
       "\n",
       "    .dataframe thead th {\n",
       "        text-align: right;\n",
       "    }\n",
       "</style>\n",
       "<table border=\"1\" class=\"dataframe\">\n",
       "  <thead>\n",
       "    <tr style=\"text-align: right;\">\n",
       "      <th></th>\n",
       "      <th>date</th>\n",
       "      <th>f_1__open</th>\n",
       "    </tr>\n",
       "  </thead>\n",
       "  <tbody>\n",
       "    <tr>\n",
       "      <th>0</th>\n",
       "      <td>2001-02-27</td>\n",
       "      <td>22.82</td>\n",
       "    </tr>\n",
       "    <tr>\n",
       "      <th>1</th>\n",
       "      <td>2018-02-23</td>\n",
       "      <td>11.95</td>\n",
       "    </tr>\n",
       "    <tr>\n",
       "      <th>2</th>\n",
       "      <td>2005-01-21</td>\n",
       "      <td>15.64</td>\n",
       "    </tr>\n",
       "    <tr>\n",
       "      <th>3</th>\n",
       "      <td>2003-11-24</td>\n",
       "      <td>17.15</td>\n",
       "    </tr>\n",
       "    <tr>\n",
       "      <th>4</th>\n",
       "      <td>2002-12-13</td>\n",
       "      <td>7.38</td>\n",
       "    </tr>\n",
       "  </tbody>\n",
       "</table>\n",
       "</div>"
      ],
      "text/plain": [
       "        date  f_1__open\n",
       "0 2001-02-27      22.82\n",
       "1 2018-02-23      11.95\n",
       "2 2005-01-21      15.64\n",
       "3 2003-11-24      17.15\n",
       "4 2002-12-13       7.38"
      ]
     },
     "execution_count": 38,
     "metadata": {},
     "output_type": "execute_result"
    }
   ],
   "source": [
    "df.head()"
   ]
  },
  {
   "cell_type": "code",
   "execution_count": 39,
   "metadata": {},
   "outputs": [
    {
     "name": "stdout",
     "output_type": "stream",
     "text": [
      "Downloading model artifact (0 dirs, 3 files)... DONE\r"
     ]
    }
   ],
   "source": [
    "import joblib\n",
    "\n",
    "the_model = mr.get_model(\"ProphetModel\", version=8)\n",
    "model_dir = the_model.download()\n",
    "\n",
    "model = joblib.load(model_dir + \"/Prophet_model.pkl\")"
   ]
  },
  {
   "cell_type": "code",
   "execution_count": 40,
   "metadata": {},
   "outputs": [
    {
     "name": "stdout",
     "output_type": "stream",
     "text": [
      "Columns in df: ['date', 'f_1__open']\n"
     ]
    }
   ],
   "source": [
    "print(\"Columns in df:\", df.columns.tolist())"
   ]
  },
  {
   "cell_type": "code",
   "execution_count": 41,
   "metadata": {},
   "outputs": [],
   "source": [
    "# Remove timezone information from 'ds' column\n",
    "df['date'] = pd.to_datetime(df['date']).dt.tz_localize(None)\n"
   ]
  },
  {
   "cell_type": "code",
   "execution_count": 42,
   "metadata": {},
   "outputs": [
    {
     "name": "stdout",
     "output_type": "stream",
     "text": [
      "datetime64[ns]\n"
     ]
    }
   ],
   "source": [
    "print(df['date'].dtype)\n"
   ]
  },
  {
   "cell_type": "code",
   "execution_count": 43,
   "metadata": {},
   "outputs": [
    {
     "data": {
      "text/html": [
       "<div>\n",
       "<style scoped>\n",
       "    .dataframe tbody tr th:only-of-type {\n",
       "        vertical-align: middle;\n",
       "    }\n",
       "\n",
       "    .dataframe tbody tr th {\n",
       "        vertical-align: top;\n",
       "    }\n",
       "\n",
       "    .dataframe thead th {\n",
       "        text-align: right;\n",
       "    }\n",
       "</style>\n",
       "<table border=\"1\" class=\"dataframe\">\n",
       "  <thead>\n",
       "    <tr style=\"text-align: right;\">\n",
       "      <th></th>\n",
       "      <th>date</th>\n",
       "      <th>f_1__open</th>\n",
       "    </tr>\n",
       "  </thead>\n",
       "  <tbody>\n",
       "    <tr>\n",
       "      <th>0</th>\n",
       "      <td>2001-02-27</td>\n",
       "      <td>22.82</td>\n",
       "    </tr>\n",
       "    <tr>\n",
       "      <th>1</th>\n",
       "      <td>2018-02-23</td>\n",
       "      <td>11.95</td>\n",
       "    </tr>\n",
       "    <tr>\n",
       "      <th>2</th>\n",
       "      <td>2005-01-21</td>\n",
       "      <td>15.64</td>\n",
       "    </tr>\n",
       "    <tr>\n",
       "      <th>3</th>\n",
       "      <td>2003-11-24</td>\n",
       "      <td>17.15</td>\n",
       "    </tr>\n",
       "    <tr>\n",
       "      <th>4</th>\n",
       "      <td>2002-12-13</td>\n",
       "      <td>7.38</td>\n",
       "    </tr>\n",
       "  </tbody>\n",
       "</table>\n",
       "</div>"
      ],
      "text/plain": [
       "        date  f_1__open\n",
       "0 2001-02-27      22.82\n",
       "1 2018-02-23      11.95\n",
       "2 2005-01-21      15.64\n",
       "3 2003-11-24      17.15\n",
       "4 2002-12-13       7.38"
      ]
     },
     "execution_count": 43,
     "metadata": {},
     "output_type": "execute_result"
    }
   ],
   "source": [
    "df.head()"
   ]
  },
  {
   "cell_type": "code",
   "execution_count": 44,
   "metadata": {},
   "outputs": [],
   "source": [
    "prophet_df = df[['date', 'f_1__open']].rename(columns={'date': 'ds', 'f_1__open': 'y'})"
   ]
  },
  {
   "cell_type": "code",
   "execution_count": 45,
   "metadata": {},
   "outputs": [
    {
     "data": {
      "text/html": [
       "<div>\n",
       "<style scoped>\n",
       "    .dataframe tbody tr th:only-of-type {\n",
       "        vertical-align: middle;\n",
       "    }\n",
       "\n",
       "    .dataframe tbody tr th {\n",
       "        vertical-align: top;\n",
       "    }\n",
       "\n",
       "    .dataframe thead th {\n",
       "        text-align: right;\n",
       "    }\n",
       "</style>\n",
       "<table border=\"1\" class=\"dataframe\">\n",
       "  <thead>\n",
       "    <tr style=\"text-align: right;\">\n",
       "      <th></th>\n",
       "      <th>ds</th>\n",
       "      <th>y</th>\n",
       "    </tr>\n",
       "  </thead>\n",
       "  <tbody>\n",
       "    <tr>\n",
       "      <th>0</th>\n",
       "      <td>2001-02-27</td>\n",
       "      <td>22.82</td>\n",
       "    </tr>\n",
       "    <tr>\n",
       "      <th>1</th>\n",
       "      <td>2018-02-23</td>\n",
       "      <td>11.95</td>\n",
       "    </tr>\n",
       "    <tr>\n",
       "      <th>2</th>\n",
       "      <td>2005-01-21</td>\n",
       "      <td>15.64</td>\n",
       "    </tr>\n",
       "    <tr>\n",
       "      <th>3</th>\n",
       "      <td>2003-11-24</td>\n",
       "      <td>17.15</td>\n",
       "    </tr>\n",
       "    <tr>\n",
       "      <th>4</th>\n",
       "      <td>2002-12-13</td>\n",
       "      <td>7.38</td>\n",
       "    </tr>\n",
       "  </tbody>\n",
       "</table>\n",
       "</div>"
      ],
      "text/plain": [
       "          ds      y\n",
       "0 2001-02-27  22.82\n",
       "1 2018-02-23  11.95\n",
       "2 2005-01-21  15.64\n",
       "3 2003-11-24  17.15\n",
       "4 2002-12-13   7.38"
      ]
     },
     "execution_count": 45,
     "metadata": {},
     "output_type": "execute_result"
    }
   ],
   "source": [
    "prophet_df.head()"
   ]
  },
  {
   "cell_type": "code",
   "execution_count": 46,
   "metadata": {},
   "outputs": [
    {
     "name": "stdout",
     "output_type": "stream",
     "text": [
      "             ds       trend  yhat_lower  yhat_upper  trend_lower  trend_upper  \\\n",
      "0    1999-11-01 -464.295697 -392.746707 -372.256450  -464.295697  -464.295697   \n",
      "1    1999-11-02 -464.228626 -283.782939 -264.079089  -464.228626  -464.228626   \n",
      "2    1999-11-03 -464.161554 -331.060875 -310.457362  -464.161554  -464.161554   \n",
      "3    1999-11-04 -464.094483 -622.163310 -602.131879  -464.094483  -464.094483   \n",
      "4    1999-11-05 -464.027412 -362.903345 -343.604928  -464.027412  -464.027412   \n",
      "...         ...         ...         ...         ...          ...          ...   \n",
      "6274 2024-10-09   -6.629561  131.250238  157.874328   -14.072656     1.676959   \n",
      "6275 2024-10-10   -6.599396 -161.185784 -135.513520   -14.091255     1.776290   \n",
      "6276 2024-10-11   -6.569231   96.887035  123.344031   -14.103685     1.843268   \n",
      "6277 2024-10-14   -6.478736   69.918355   96.250887   -14.052151     1.961456   \n",
      "6278 2024-10-15   -6.448571  176.819973  202.664118   -14.070504     2.034815   \n",
      "\n",
      "      additive_terms  additive_terms_lower  additive_terms_upper     daily  \\\n",
      "0          82.129560             82.129560             82.129560  40.46756   \n",
      "1         190.014100            190.014100            190.014100  40.46756   \n",
      "2         143.744250            143.744250            143.744250  40.46756   \n",
      "3        -148.399492           -148.399492           -148.399492  40.46756   \n",
      "4         111.034621            111.034621            111.034621  40.46756   \n",
      "...              ...                   ...                   ...       ...   \n",
      "6274      150.483465            150.483465            150.483465  40.46756   \n",
      "6275     -142.559879           -142.559879           -142.559879  40.46756   \n",
      "6276      115.761383            115.761383            115.761383  40.46756   \n",
      "6277       89.187866             89.187866             89.187866  40.46756   \n",
      "6278      195.728365            195.728365            195.728365  40.46756   \n",
      "\n",
      "      ...      weekly  weekly_lower  weekly_upper    yearly  yearly_lower  \\\n",
      "0     ...   42.609737     42.609737     42.609737 -0.947737     -0.947737   \n",
      "1     ...  149.778556    149.778556    149.778556 -0.232017     -0.232017   \n",
      "2     ...  102.671902    102.671902    102.671902  0.604788      0.604788   \n",
      "3     ... -190.405674   -190.405674   -190.405674  1.538622      1.538622   \n",
      "4     ...   68.025288     68.025288     68.025288  2.541773      2.541773   \n",
      "...   ...         ...           ...           ...       ...           ...   \n",
      "6274  ...  102.671902    102.671902    102.671902  7.344003      7.344003   \n",
      "6275  ... -190.405674   -190.405674   -190.405674  7.378234      7.378234   \n",
      "6276  ...   68.025288     68.025288     68.025288  7.268535      7.268535   \n",
      "6277  ...   42.609737     42.609737     42.609737  6.110569      6.110569   \n",
      "6278  ...  149.778556    149.778556    149.778556  5.482249      5.482249   \n",
      "\n",
      "      yearly_upper  multiplicative_terms  multiplicative_terms_lower  \\\n",
      "0        -0.947737                   0.0                         0.0   \n",
      "1        -0.232017                   0.0                         0.0   \n",
      "2         0.604788                   0.0                         0.0   \n",
      "3         1.538622                   0.0                         0.0   \n",
      "4         2.541773                   0.0                         0.0   \n",
      "...            ...                   ...                         ...   \n",
      "6274      7.344003                   0.0                         0.0   \n",
      "6275      7.378234                   0.0                         0.0   \n",
      "6276      7.268535                   0.0                         0.0   \n",
      "6277      6.110569                   0.0                         0.0   \n",
      "6278      5.482249                   0.0                         0.0   \n",
      "\n",
      "      multiplicative_terms_upper        yhat  \n",
      "0                            0.0 -382.166138  \n",
      "1                            0.0 -274.214526  \n",
      "2                            0.0 -320.417305  \n",
      "3                            0.0 -612.493975  \n",
      "4                            0.0 -352.992791  \n",
      "...                          ...         ...  \n",
      "6274                         0.0  143.853905  \n",
      "6275                         0.0 -149.159275  \n",
      "6276                         0.0  109.192152  \n",
      "6277                         0.0   82.709130  \n",
      "6278                         0.0  189.279794  \n",
      "\n",
      "[6279 rows x 22 columns]\n"
     ]
    }
   ],
   "source": [
    "# Predict using the model\n",
    "predictions = model.predict(prophet_df)\n",
    "\n",
    "# Display predictions\n",
    "print(predictions)\n"
   ]
  },
  {
   "cell_type": "code",
   "execution_count": 47,
   "metadata": {},
   "outputs": [
    {
     "data": {
      "text/html": [
       "<div>\n",
       "<style scoped>\n",
       "    .dataframe tbody tr th:only-of-type {\n",
       "        vertical-align: middle;\n",
       "    }\n",
       "\n",
       "    .dataframe tbody tr th {\n",
       "        vertical-align: top;\n",
       "    }\n",
       "\n",
       "    .dataframe thead th {\n",
       "        text-align: right;\n",
       "    }\n",
       "</style>\n",
       "<table border=\"1\" class=\"dataframe\">\n",
       "  <thead>\n",
       "    <tr style=\"text-align: right;\">\n",
       "      <th></th>\n",
       "      <th>ds</th>\n",
       "      <th>trend</th>\n",
       "      <th>yhat_lower</th>\n",
       "      <th>yhat_upper</th>\n",
       "      <th>trend_lower</th>\n",
       "      <th>trend_upper</th>\n",
       "      <th>additive_terms</th>\n",
       "      <th>additive_terms_lower</th>\n",
       "      <th>additive_terms_upper</th>\n",
       "      <th>daily</th>\n",
       "      <th>...</th>\n",
       "      <th>weekly</th>\n",
       "      <th>weekly_lower</th>\n",
       "      <th>weekly_upper</th>\n",
       "      <th>yearly</th>\n",
       "      <th>yearly_lower</th>\n",
       "      <th>yearly_upper</th>\n",
       "      <th>multiplicative_terms</th>\n",
       "      <th>multiplicative_terms_lower</th>\n",
       "      <th>multiplicative_terms_upper</th>\n",
       "      <th>yhat</th>\n",
       "    </tr>\n",
       "  </thead>\n",
       "  <tbody>\n",
       "    <tr>\n",
       "      <th>0</th>\n",
       "      <td>1999-11-01</td>\n",
       "      <td>-464.295697</td>\n",
       "      <td>-392.746707</td>\n",
       "      <td>-372.256450</td>\n",
       "      <td>-464.295697</td>\n",
       "      <td>-464.295697</td>\n",
       "      <td>82.129560</td>\n",
       "      <td>82.129560</td>\n",
       "      <td>82.129560</td>\n",
       "      <td>40.46756</td>\n",
       "      <td>...</td>\n",
       "      <td>42.609737</td>\n",
       "      <td>42.609737</td>\n",
       "      <td>42.609737</td>\n",
       "      <td>-0.947737</td>\n",
       "      <td>-0.947737</td>\n",
       "      <td>-0.947737</td>\n",
       "      <td>0.0</td>\n",
       "      <td>0.0</td>\n",
       "      <td>0.0</td>\n",
       "      <td>-382.166138</td>\n",
       "    </tr>\n",
       "    <tr>\n",
       "      <th>1</th>\n",
       "      <td>1999-11-02</td>\n",
       "      <td>-464.228626</td>\n",
       "      <td>-283.782939</td>\n",
       "      <td>-264.079089</td>\n",
       "      <td>-464.228626</td>\n",
       "      <td>-464.228626</td>\n",
       "      <td>190.014100</td>\n",
       "      <td>190.014100</td>\n",
       "      <td>190.014100</td>\n",
       "      <td>40.46756</td>\n",
       "      <td>...</td>\n",
       "      <td>149.778556</td>\n",
       "      <td>149.778556</td>\n",
       "      <td>149.778556</td>\n",
       "      <td>-0.232017</td>\n",
       "      <td>-0.232017</td>\n",
       "      <td>-0.232017</td>\n",
       "      <td>0.0</td>\n",
       "      <td>0.0</td>\n",
       "      <td>0.0</td>\n",
       "      <td>-274.214526</td>\n",
       "    </tr>\n",
       "    <tr>\n",
       "      <th>2</th>\n",
       "      <td>1999-11-03</td>\n",
       "      <td>-464.161554</td>\n",
       "      <td>-331.060875</td>\n",
       "      <td>-310.457362</td>\n",
       "      <td>-464.161554</td>\n",
       "      <td>-464.161554</td>\n",
       "      <td>143.744250</td>\n",
       "      <td>143.744250</td>\n",
       "      <td>143.744250</td>\n",
       "      <td>40.46756</td>\n",
       "      <td>...</td>\n",
       "      <td>102.671902</td>\n",
       "      <td>102.671902</td>\n",
       "      <td>102.671902</td>\n",
       "      <td>0.604788</td>\n",
       "      <td>0.604788</td>\n",
       "      <td>0.604788</td>\n",
       "      <td>0.0</td>\n",
       "      <td>0.0</td>\n",
       "      <td>0.0</td>\n",
       "      <td>-320.417305</td>\n",
       "    </tr>\n",
       "    <tr>\n",
       "      <th>3</th>\n",
       "      <td>1999-11-04</td>\n",
       "      <td>-464.094483</td>\n",
       "      <td>-622.163310</td>\n",
       "      <td>-602.131879</td>\n",
       "      <td>-464.094483</td>\n",
       "      <td>-464.094483</td>\n",
       "      <td>-148.399492</td>\n",
       "      <td>-148.399492</td>\n",
       "      <td>-148.399492</td>\n",
       "      <td>40.46756</td>\n",
       "      <td>...</td>\n",
       "      <td>-190.405674</td>\n",
       "      <td>-190.405674</td>\n",
       "      <td>-190.405674</td>\n",
       "      <td>1.538622</td>\n",
       "      <td>1.538622</td>\n",
       "      <td>1.538622</td>\n",
       "      <td>0.0</td>\n",
       "      <td>0.0</td>\n",
       "      <td>0.0</td>\n",
       "      <td>-612.493975</td>\n",
       "    </tr>\n",
       "    <tr>\n",
       "      <th>4</th>\n",
       "      <td>1999-11-05</td>\n",
       "      <td>-464.027412</td>\n",
       "      <td>-362.903345</td>\n",
       "      <td>-343.604928</td>\n",
       "      <td>-464.027412</td>\n",
       "      <td>-464.027412</td>\n",
       "      <td>111.034621</td>\n",
       "      <td>111.034621</td>\n",
       "      <td>111.034621</td>\n",
       "      <td>40.46756</td>\n",
       "      <td>...</td>\n",
       "      <td>68.025288</td>\n",
       "      <td>68.025288</td>\n",
       "      <td>68.025288</td>\n",
       "      <td>2.541773</td>\n",
       "      <td>2.541773</td>\n",
       "      <td>2.541773</td>\n",
       "      <td>0.0</td>\n",
       "      <td>0.0</td>\n",
       "      <td>0.0</td>\n",
       "      <td>-352.992791</td>\n",
       "    </tr>\n",
       "    <tr>\n",
       "      <th>...</th>\n",
       "      <td>...</td>\n",
       "      <td>...</td>\n",
       "      <td>...</td>\n",
       "      <td>...</td>\n",
       "      <td>...</td>\n",
       "      <td>...</td>\n",
       "      <td>...</td>\n",
       "      <td>...</td>\n",
       "      <td>...</td>\n",
       "      <td>...</td>\n",
       "      <td>...</td>\n",
       "      <td>...</td>\n",
       "      <td>...</td>\n",
       "      <td>...</td>\n",
       "      <td>...</td>\n",
       "      <td>...</td>\n",
       "      <td>...</td>\n",
       "      <td>...</td>\n",
       "      <td>...</td>\n",
       "      <td>...</td>\n",
       "      <td>...</td>\n",
       "    </tr>\n",
       "    <tr>\n",
       "      <th>6274</th>\n",
       "      <td>2024-10-09</td>\n",
       "      <td>-6.629561</td>\n",
       "      <td>131.250238</td>\n",
       "      <td>157.874328</td>\n",
       "      <td>-14.072656</td>\n",
       "      <td>1.676959</td>\n",
       "      <td>150.483465</td>\n",
       "      <td>150.483465</td>\n",
       "      <td>150.483465</td>\n",
       "      <td>40.46756</td>\n",
       "      <td>...</td>\n",
       "      <td>102.671902</td>\n",
       "      <td>102.671902</td>\n",
       "      <td>102.671902</td>\n",
       "      <td>7.344003</td>\n",
       "      <td>7.344003</td>\n",
       "      <td>7.344003</td>\n",
       "      <td>0.0</td>\n",
       "      <td>0.0</td>\n",
       "      <td>0.0</td>\n",
       "      <td>143.853905</td>\n",
       "    </tr>\n",
       "    <tr>\n",
       "      <th>6275</th>\n",
       "      <td>2024-10-10</td>\n",
       "      <td>-6.599396</td>\n",
       "      <td>-161.185784</td>\n",
       "      <td>-135.513520</td>\n",
       "      <td>-14.091255</td>\n",
       "      <td>1.776290</td>\n",
       "      <td>-142.559879</td>\n",
       "      <td>-142.559879</td>\n",
       "      <td>-142.559879</td>\n",
       "      <td>40.46756</td>\n",
       "      <td>...</td>\n",
       "      <td>-190.405674</td>\n",
       "      <td>-190.405674</td>\n",
       "      <td>-190.405674</td>\n",
       "      <td>7.378234</td>\n",
       "      <td>7.378234</td>\n",
       "      <td>7.378234</td>\n",
       "      <td>0.0</td>\n",
       "      <td>0.0</td>\n",
       "      <td>0.0</td>\n",
       "      <td>-149.159275</td>\n",
       "    </tr>\n",
       "    <tr>\n",
       "      <th>6276</th>\n",
       "      <td>2024-10-11</td>\n",
       "      <td>-6.569231</td>\n",
       "      <td>96.887035</td>\n",
       "      <td>123.344031</td>\n",
       "      <td>-14.103685</td>\n",
       "      <td>1.843268</td>\n",
       "      <td>115.761383</td>\n",
       "      <td>115.761383</td>\n",
       "      <td>115.761383</td>\n",
       "      <td>40.46756</td>\n",
       "      <td>...</td>\n",
       "      <td>68.025288</td>\n",
       "      <td>68.025288</td>\n",
       "      <td>68.025288</td>\n",
       "      <td>7.268535</td>\n",
       "      <td>7.268535</td>\n",
       "      <td>7.268535</td>\n",
       "      <td>0.0</td>\n",
       "      <td>0.0</td>\n",
       "      <td>0.0</td>\n",
       "      <td>109.192152</td>\n",
       "    </tr>\n",
       "    <tr>\n",
       "      <th>6277</th>\n",
       "      <td>2024-10-14</td>\n",
       "      <td>-6.478736</td>\n",
       "      <td>69.918355</td>\n",
       "      <td>96.250887</td>\n",
       "      <td>-14.052151</td>\n",
       "      <td>1.961456</td>\n",
       "      <td>89.187866</td>\n",
       "      <td>89.187866</td>\n",
       "      <td>89.187866</td>\n",
       "      <td>40.46756</td>\n",
       "      <td>...</td>\n",
       "      <td>42.609737</td>\n",
       "      <td>42.609737</td>\n",
       "      <td>42.609737</td>\n",
       "      <td>6.110569</td>\n",
       "      <td>6.110569</td>\n",
       "      <td>6.110569</td>\n",
       "      <td>0.0</td>\n",
       "      <td>0.0</td>\n",
       "      <td>0.0</td>\n",
       "      <td>82.709130</td>\n",
       "    </tr>\n",
       "    <tr>\n",
       "      <th>6278</th>\n",
       "      <td>2024-10-15</td>\n",
       "      <td>-6.448571</td>\n",
       "      <td>176.819973</td>\n",
       "      <td>202.664118</td>\n",
       "      <td>-14.070504</td>\n",
       "      <td>2.034815</td>\n",
       "      <td>195.728365</td>\n",
       "      <td>195.728365</td>\n",
       "      <td>195.728365</td>\n",
       "      <td>40.46756</td>\n",
       "      <td>...</td>\n",
       "      <td>149.778556</td>\n",
       "      <td>149.778556</td>\n",
       "      <td>149.778556</td>\n",
       "      <td>5.482249</td>\n",
       "      <td>5.482249</td>\n",
       "      <td>5.482249</td>\n",
       "      <td>0.0</td>\n",
       "      <td>0.0</td>\n",
       "      <td>0.0</td>\n",
       "      <td>189.279794</td>\n",
       "    </tr>\n",
       "  </tbody>\n",
       "</table>\n",
       "<p>6279 rows × 22 columns</p>\n",
       "</div>"
      ],
      "text/plain": [
       "             ds       trend  yhat_lower  yhat_upper  trend_lower  trend_upper  \\\n",
       "0    1999-11-01 -464.295697 -392.746707 -372.256450  -464.295697  -464.295697   \n",
       "1    1999-11-02 -464.228626 -283.782939 -264.079089  -464.228626  -464.228626   \n",
       "2    1999-11-03 -464.161554 -331.060875 -310.457362  -464.161554  -464.161554   \n",
       "3    1999-11-04 -464.094483 -622.163310 -602.131879  -464.094483  -464.094483   \n",
       "4    1999-11-05 -464.027412 -362.903345 -343.604928  -464.027412  -464.027412   \n",
       "...         ...         ...         ...         ...          ...          ...   \n",
       "6274 2024-10-09   -6.629561  131.250238  157.874328   -14.072656     1.676959   \n",
       "6275 2024-10-10   -6.599396 -161.185784 -135.513520   -14.091255     1.776290   \n",
       "6276 2024-10-11   -6.569231   96.887035  123.344031   -14.103685     1.843268   \n",
       "6277 2024-10-14   -6.478736   69.918355   96.250887   -14.052151     1.961456   \n",
       "6278 2024-10-15   -6.448571  176.819973  202.664118   -14.070504     2.034815   \n",
       "\n",
       "      additive_terms  additive_terms_lower  additive_terms_upper     daily  \\\n",
       "0          82.129560             82.129560             82.129560  40.46756   \n",
       "1         190.014100            190.014100            190.014100  40.46756   \n",
       "2         143.744250            143.744250            143.744250  40.46756   \n",
       "3        -148.399492           -148.399492           -148.399492  40.46756   \n",
       "4         111.034621            111.034621            111.034621  40.46756   \n",
       "...              ...                   ...                   ...       ...   \n",
       "6274      150.483465            150.483465            150.483465  40.46756   \n",
       "6275     -142.559879           -142.559879           -142.559879  40.46756   \n",
       "6276      115.761383            115.761383            115.761383  40.46756   \n",
       "6277       89.187866             89.187866             89.187866  40.46756   \n",
       "6278      195.728365            195.728365            195.728365  40.46756   \n",
       "\n",
       "      ...      weekly  weekly_lower  weekly_upper    yearly  yearly_lower  \\\n",
       "0     ...   42.609737     42.609737     42.609737 -0.947737     -0.947737   \n",
       "1     ...  149.778556    149.778556    149.778556 -0.232017     -0.232017   \n",
       "2     ...  102.671902    102.671902    102.671902  0.604788      0.604788   \n",
       "3     ... -190.405674   -190.405674   -190.405674  1.538622      1.538622   \n",
       "4     ...   68.025288     68.025288     68.025288  2.541773      2.541773   \n",
       "...   ...         ...           ...           ...       ...           ...   \n",
       "6274  ...  102.671902    102.671902    102.671902  7.344003      7.344003   \n",
       "6275  ... -190.405674   -190.405674   -190.405674  7.378234      7.378234   \n",
       "6276  ...   68.025288     68.025288     68.025288  7.268535      7.268535   \n",
       "6277  ...   42.609737     42.609737     42.609737  6.110569      6.110569   \n",
       "6278  ...  149.778556    149.778556    149.778556  5.482249      5.482249   \n",
       "\n",
       "      yearly_upper  multiplicative_terms  multiplicative_terms_lower  \\\n",
       "0        -0.947737                   0.0                         0.0   \n",
       "1        -0.232017                   0.0                         0.0   \n",
       "2         0.604788                   0.0                         0.0   \n",
       "3         1.538622                   0.0                         0.0   \n",
       "4         2.541773                   0.0                         0.0   \n",
       "...            ...                   ...                         ...   \n",
       "6274      7.344003                   0.0                         0.0   \n",
       "6275      7.378234                   0.0                         0.0   \n",
       "6276      7.268535                   0.0                         0.0   \n",
       "6277      6.110569                   0.0                         0.0   \n",
       "6278      5.482249                   0.0                         0.0   \n",
       "\n",
       "      multiplicative_terms_upper        yhat  \n",
       "0                            0.0 -382.166138  \n",
       "1                            0.0 -274.214526  \n",
       "2                            0.0 -320.417305  \n",
       "3                            0.0 -612.493975  \n",
       "4                            0.0 -352.992791  \n",
       "...                          ...         ...  \n",
       "6274                         0.0  143.853905  \n",
       "6275                         0.0 -149.159275  \n",
       "6276                         0.0  109.192152  \n",
       "6277                         0.0   82.709130  \n",
       "6278                         0.0  189.279794  \n",
       "\n",
       "[6279 rows x 22 columns]"
      ]
     },
     "execution_count": 47,
     "metadata": {},
     "output_type": "execute_result"
    }
   ],
   "source": [
    "predictions "
   ]
  },
  {
   "cell_type": "code",
   "execution_count": 48,
   "metadata": {},
   "outputs": [
    {
     "name": "stdout",
     "output_type": "stream",
     "text": [
      "Connection closed.\n",
      "Connected. Call `.close()` to terminate connection gracefully.\n",
      "\n",
      "Logged in to project, explore it here https://c.app.hopsworks.ai:443/p/564374\n",
      "Connected. Call `.close()` to terminate connection gracefully.\n"
     ]
    }
   ],
   "source": [
    "api_key = os.environ.get('HOPSWORKS_API')\n",
    "project = hopsworks.login(api_key_value=api_key)\n",
    "fs = project.get_feature_store()"
   ]
  },
  {
   "cell_type": "code",
   "execution_count": 49,
   "metadata": {},
   "outputs": [
    {
     "name": "stdout",
     "output_type": "stream",
     "text": [
      "2024-10-16 18:52:39,141 WARNING: DeprecationWarning: Providing event_time as a single-element list is deprecated and will be dropped in future versions. Provide the feature_name string instead.\n",
      "\n"
     ]
    }
   ],
   "source": [
    "results_fg = fs.get_or_create_feature_group(\n",
    "    name= 'stock_prediction_results',\n",
    "    version = 3,\n",
    "    description = 'Predction of AMD close stock price',\n",
    "    primary_key = ['y'],\n",
    "    event_time = ['ds'],\n",
    "    online_enabled = False,\n",
    ")"
   ]
  },
  {
   "cell_type": "code",
   "execution_count": 50,
   "metadata": {},
   "outputs": [
    {
     "name": "stdout",
     "output_type": "stream",
     "text": [
      "Feature Group created successfully, explore it at \n",
      "https://c.app.hopsworks.ai:443/p/564374/fs/560197/fg/1285459\n"
     ]
    },
    {
     "data": {
      "application/vnd.jupyter.widget-view+json": {
       "model_id": "e4fc327bdf7c416ea1680c8228cfcfa3",
       "version_major": 2,
       "version_minor": 0
      },
      "text/plain": [
       "Uploading Dataframe: 0.00% |          | Rows 0/6279 | Elapsed Time: 00:00 | Remaining Time: ?"
      ]
     },
     "metadata": {},
     "output_type": "display_data"
    },
    {
     "name": "stdout",
     "output_type": "stream",
     "text": [
      "Launching job: stock_prediction_results_3_offline_fg_materialization\n",
      "Job started successfully, you can follow the progress at \n",
      "https://c.app.hopsworks.ai/p/564374/jobs/named/stock_prediction_results_3_offline_fg_materialization/executions\n"
     ]
    },
    {
     "data": {
      "text/plain": [
       "(<hsfs.core.job.Job at 0x16e8929de80>, None)"
      ]
     },
     "execution_count": 50,
     "metadata": {},
     "output_type": "execute_result"
    }
   ],
   "source": [
    "results_fg.insert(prophet_df, write_options={\"wait_for_job\" : False})"
   ]
  }
 ],
 "metadata": {
  "kernelspec": {
   "display_name": "Python 3",
   "language": "python",
   "name": "python3"
  },
  "language_info": {
   "codemirror_mode": {
    "name": "ipython",
    "version": 3
   },
   "file_extension": ".py",
   "mimetype": "text/x-python",
   "name": "python",
   "nbconvert_exporter": "python",
   "pygments_lexer": "ipython3",
   "version": "3.12.7"
  }
 },
 "nbformat": 4,
 "nbformat_minor": 2
}
