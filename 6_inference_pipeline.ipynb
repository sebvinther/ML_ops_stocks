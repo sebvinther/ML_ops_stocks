{
 "cells": [
  {
   "cell_type": "code",
   "execution_count": 1,
   "metadata": {},
   "outputs": [
    {
     "data": {
      "text/plain": [
       "True"
      ]
     },
     "execution_count": 1,
     "metadata": {},
     "output_type": "execute_result"
    }
   ],
   "source": [
    "import pandas as pd \n",
    "import hopsworks \n",
    "from datetime import datetime, timedelta\n",
    "\n",
    "import numpy as np\n",
    "\n",
    "\n",
    "\n",
    "#Making the notebook able to fetch from the .env file\n",
    "from dotenv import load_dotenv\n",
    "import os\n",
    "\n",
    "load_dotenv()"
   ]
  },
  {
   "cell_type": "code",
   "execution_count": 2,
   "metadata": {},
   "outputs": [
    {
     "name": "stdout",
     "output_type": "stream",
     "text": [
      "Connected. Call `.close()` to terminate connection gracefully.\n",
      "\n",
      "Logged in to project, explore it here https://c.app.hopsworks.ai:443/p/564374\n",
      "2024-10-14 19:51:18,062 WARNING: using legacy validation callback\n",
      "Connected. Call `.close()` to terminate connection gracefully.\n",
      "Connected. Call `.close()` to terminate connection gracefully.\n"
     ]
    }
   ],
   "source": [
    "api_key = os.environ.get('hopsworks_api')\n",
    "project = hopsworks.login(api_key_value=api_key)\n",
    "fs = project.get_feature_store()\n",
    "mr = project.get_model_registry() "
   ]
  },
  {
   "cell_type": "code",
   "execution_count": 8,
   "metadata": {},
   "outputs": [
    {
     "name": "stdout",
     "output_type": "stream",
     "text": [
      "2024-10-09\n"
     ]
    }
   ],
   "source": [
    "start_date = datetime.now() - timedelta(hours=48)\n",
    "print(start_date.strftime(\"%Y-%m-%d\"))"
   ]
  },
  {
   "cell_type": "code",
   "execution_count": 9,
   "metadata": {},
   "outputs": [
    {
     "name": "stdout",
     "output_type": "stream",
     "text": [
      "2024-10-10\n"
     ]
    }
   ],
   "source": [
    "end_date = datetime.now() - timedelta(hours=24)\n",
    "print(end_date.strftime(\"%Y-%m-%d\"))"
   ]
  },
  {
   "cell_type": "code",
   "execution_count": 10,
   "metadata": {},
   "outputs": [],
   "source": [
    "feature_view = fs.get_feature_view('amd_stocks_fv', 8)\n",
    "feature_view.init_batch_scoring(training_dataset_version=1)"
   ]
  },
  {
   "cell_type": "code",
   "execution_count": 11,
   "metadata": {},
   "outputs": [
    {
     "name": "stdout",
     "output_type": "stream",
     "text": [
      "Finished: Reading data from Hopsworks, using Hopsworks Feature Query Service (0.74s) \n"
     ]
    }
   ],
   "source": [
    "df = feature_view.get_batch_data(start_time=start_date, end_time=end_date)"
   ]
  },
  {
   "cell_type": "code",
   "execution_count": 12,
   "metadata": {},
   "outputs": [
    {
     "data": {
      "text/html": [
       "<div>\n",
       "<style scoped>\n",
       "    .dataframe tbody tr th:only-of-type {\n",
       "        vertical-align: middle;\n",
       "    }\n",
       "\n",
       "    .dataframe tbody tr th {\n",
       "        vertical-align: top;\n",
       "    }\n",
       "\n",
       "    .dataframe thead th {\n",
       "        text-align: right;\n",
       "    }\n",
       "</style>\n",
       "<table border=\"1\" class=\"dataframe\">\n",
       "  <thead>\n",
       "    <tr style=\"text-align: right;\">\n",
       "      <th></th>\n",
       "      <th>date</th>\n",
       "      <th>f_1__open</th>\n",
       "      <th>f_2__high</th>\n",
       "      <th>f_3__low</th>\n",
       "      <th>f_5__volume</th>\n",
       "      <th>ticker</th>\n",
       "    </tr>\n",
       "  </thead>\n",
       "  <tbody>\n",
       "  </tbody>\n",
       "</table>\n",
       "</div>"
      ],
      "text/plain": [
       "Empty DataFrame\n",
       "Columns: [date, f_1__open, f_2__high, f_3__low, f_5__volume, ticker]\n",
       "Index: []"
      ]
     },
     "execution_count": 12,
     "metadata": {},
     "output_type": "execute_result"
    }
   ],
   "source": [
    "df.head()"
   ]
  },
  {
   "cell_type": "code",
   "execution_count": 14,
   "metadata": {},
   "outputs": [
    {
     "name": "stdout",
     "output_type": "stream",
     "text": [
      "2024-10-14 20:00:01,326 WARNING: FutureIncompatibilityWarning: \n",
      "\n",
      "This is a future version incompatibility warning from Holidays library v0.58\n",
      "to inform you about an upcoming change in our API versioning strategy that may affect your\n",
      "project's dependencies. Starting from version 1.0 onwards, we will be following a loose form of\n",
      "Semantic Versioning (SemVer, https://semver.org) to provide clearer communication regarding any\n",
      "potential breaking changes.\n",
      "\n",
      "This means that while we strive to maintain backward compatibility, there might be occasional\n",
      "updates that introduce breaking changes to our API. To ensure the stability of your projects,\n",
      "we highly recommend pinning the version of our API that you rely on. You can pin your current\n",
      "holidays v0.x dependency (e.g., holidays==0.58) or limit it (e.g., holidays<1.0) in order to\n",
      "avoid potentially unwanted upgrade to the version 1.0 when it's released (ETA 2024Q4 - 2025Q1).\n",
      "\n",
      "If you have any questions or concerns regarding this change, please don't hesitate to reach out\n",
      "to us via https://github.com/vacanza/holidays/discussions/1800.\n",
      "\n",
      "\n",
      "2024-10-14 20:00:01,768 ERROR: Importing plotly failed. Interactive plots will not work.\n"
     ]
    }
   ],
   "source": [
    "import joblib\n",
    "\n",
    "the_model = mr.get_model(\"ProphetModel\", version=2)\n",
    "model_dir = the_model.download()\n",
    "\n",
    "model = joblib.load(model_dir + \"/Prophet_model.pkl\")"
   ]
  },
  {
   "cell_type": "code",
   "execution_count": 15,
   "metadata": {},
   "outputs": [
    {
     "ename": "ValueError",
     "evalue": "Dataframe has no rows.",
     "output_type": "error",
     "traceback": [
      "\u001b[1;31m---------------------------------------------------------------------------\u001b[0m",
      "\u001b[1;31mValueError\u001b[0m                                Traceback (most recent call last)",
      "Cell \u001b[1;32mIn[15], line 1\u001b[0m\n\u001b[1;32m----> 1\u001b[0m predictions \u001b[38;5;241m=\u001b[39m model\u001b[38;5;241m.\u001b[39mpredict(df)\n",
      "File \u001b[1;32mc:\\Users\\svjen\\OneDrive\\Skrivebord\\Github_repos\\ML_ops_stocks\\.conda\\Lib\\site-packages\\prophet\\forecaster.py:1269\u001b[0m, in \u001b[0;36mProphet.predict\u001b[1;34m(self, df, vectorized)\u001b[0m\n\u001b[0;32m   1267\u001b[0m \u001b[38;5;28;01melse\u001b[39;00m:\n\u001b[0;32m   1268\u001b[0m     \u001b[38;5;28;01mif\u001b[39;00m df\u001b[38;5;241m.\u001b[39mshape[\u001b[38;5;241m0\u001b[39m] \u001b[38;5;241m==\u001b[39m \u001b[38;5;241m0\u001b[39m:\n\u001b[1;32m-> 1269\u001b[0m         \u001b[38;5;28;01mraise\u001b[39;00m \u001b[38;5;167;01mValueError\u001b[39;00m(\u001b[38;5;124m'\u001b[39m\u001b[38;5;124mDataframe has no rows.\u001b[39m\u001b[38;5;124m'\u001b[39m)\n\u001b[0;32m   1270\u001b[0m     df \u001b[38;5;241m=\u001b[39m \u001b[38;5;28mself\u001b[39m\u001b[38;5;241m.\u001b[39msetup_dataframe(df\u001b[38;5;241m.\u001b[39mcopy())\n\u001b[0;32m   1272\u001b[0m df[\u001b[38;5;124m'\u001b[39m\u001b[38;5;124mtrend\u001b[39m\u001b[38;5;124m'\u001b[39m] \u001b[38;5;241m=\u001b[39m \u001b[38;5;28mself\u001b[39m\u001b[38;5;241m.\u001b[39mpredict_trend(df)\n",
      "\u001b[1;31mValueError\u001b[0m: Dataframe has no rows."
     ]
    }
   ],
   "source": [
    "predictions = model.predict(df)"
   ]
  },
  {
   "cell_type": "code",
   "execution_count": 16,
   "metadata": {},
   "outputs": [
    {
     "name": "stdout",
     "output_type": "stream",
     "text": [
      "2024-10-14 20:02:18,124 WARNING: DeprecationWarning: ast.Str is deprecated and will be removed in Python 3.14; use ast.Constant instead\n",
      "\n",
      "2024-10-14 20:02:18,125 WARNING: DeprecationWarning: Attribute s is deprecated and will be removed in Python 3.14; use value instead\n",
      "\n"
     ]
    },
    {
     "ename": "NameError",
     "evalue": "name 'predictions' is not defined",
     "output_type": "error",
     "traceback": [
      "\u001b[1;31m---------------------------------------------------------------------------\u001b[0m",
      "\u001b[1;31mNameError\u001b[0m                                 Traceback (most recent call last)",
      "Cell \u001b[1;32mIn[16], line 1\u001b[0m\n\u001b[1;32m----> 1\u001b[0m predictions\n",
      "\u001b[1;31mNameError\u001b[0m: name 'predictions' is not defined"
     ]
    }
   ],
   "source": [
    "predictions "
   ]
  },
  {
   "cell_type": "code",
   "execution_count": null,
   "metadata": {},
   "outputs": [],
   "source": [
    "df['predictions'] = predictions.tolist()"
   ]
  },
  {
   "cell_type": "code",
   "execution_count": null,
   "metadata": {},
   "outputs": [],
   "source": [
    "api_key = os.environ.get('hopsworks_api')\n",
    "project = hopsworks.login(api_key_value=api_key)\n",
    "fs = project.get_feature_store()"
   ]
  },
  {
   "cell_type": "code",
   "execution_count": null,
   "metadata": {},
   "outputs": [],
   "source": [
    "results_fg = fs.get_or_create_feature_group(\n",
    "    name= 'stock_prediction_results',\n",
    "    version = 1,\n",
    "    description = 'Predction of AMD close stock price',\n",
    "    primary_key = ['ticker'],\n",
    "    event_time = ['date'],\n",
    "    online_enabled = False,\n",
    ")"
   ]
  },
  {
   "cell_type": "code",
   "execution_count": null,
   "metadata": {},
   "outputs": [],
   "source": [
    "results_fg.insert(df, write_options={\"wait_for_job\" : False})"
   ]
  }
 ],
 "metadata": {
  "kernelspec": {
   "display_name": "Python 3",
   "language": "python",
   "name": "python3"
  },
  "language_info": {
   "codemirror_mode": {
    "name": "ipython",
    "version": 3
   },
   "file_extension": ".py",
   "mimetype": "text/x-python",
   "name": "python",
   "nbconvert_exporter": "python",
   "pygments_lexer": "ipython3",
   "version": "3.12.7"
  }
 },
 "nbformat": 4,
 "nbformat_minor": 2
}
