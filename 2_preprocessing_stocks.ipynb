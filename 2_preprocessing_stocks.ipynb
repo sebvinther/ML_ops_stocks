{
 "cells": [
  {
   "cell_type": "code",
   "execution_count": 2,
   "metadata": {},
   "outputs": [
    {
     "data": {
      "text/plain": [
       "True"
      ]
     },
     "execution_count": 2,
     "metadata": {},
     "output_type": "execute_result"
    }
   ],
   "source": [
    "#Importing necessary libraries\n",
    "from dotenv import load_dotenv\n",
    "import os \n",
    "from alpha_vantage.timeseries import TimeSeries\n",
    "import pandas as pd\n",
    "import hopsworks\n",
    "import re \n",
    "import modal \n",
    "#prepocessing\n",
    "import requests\n",
    "import json\n",
    "import pandas_market_calendars as mcal\n",
    "import datetime\n",
    "import numpy as np\n",
    "from datetime import datetime, timedelta\n",
    "load_dotenv()"
   ]
  },
  {
   "cell_type": "code",
   "execution_count": 3,
   "metadata": {},
   "outputs": [
    {
     "name": "stdout",
     "output_type": "stream",
     "text": [
      "            1. open   2. high    3. low  4. close   5. volume\n",
      "date                                                         \n",
      "2024-10-04  166.533  171.2100  164.4200    170.90  44640296.0\n",
      "2024-10-03  159.710  166.7894  159.4000    162.85  29598787.0\n",
      "2024-10-02  159.310  163.1000  158.6689    159.78  24630431.0\n",
      "2024-10-01  164.480  165.4000  158.0800    159.75  31831860.0\n",
      "2024-09-30  163.100  165.0800  162.1800    164.08  21920300.0\n"
     ]
    }
   ],
   "source": [
    "#Connecting to Alpha vantage using API key\n",
    "api_key = os.environ.get('STOCK_API')\n",
    "ts = TimeSeries(key=api_key, output_format='pandas')\n",
    "\n",
    "# Fetch daily adjusted stock prices; adjust the symbol as needed\n",
    "data, meta_data = ts.get_daily(symbol='AMD', outputsize='full')\n",
    "\n",
    "print(data.head())"
   ]
  },
  {
   "cell_type": "code",
   "execution_count": 4,
   "metadata": {},
   "outputs": [
    {
     "name": "stdout",
     "output_type": "stream",
     "text": [
      "<class 'pandas.core.frame.DataFrame'>\n",
      "DatetimeIndex: 6272 entries, 2024-10-04 to 1999-11-01\n",
      "Data columns (total 5 columns):\n",
      " #   Column     Non-Null Count  Dtype  \n",
      "---  ------     --------------  -----  \n",
      " 0   1. open    6272 non-null   float64\n",
      " 1   2. high    6272 non-null   float64\n",
      " 2   3. low     6272 non-null   float64\n",
      " 3   4. close   6272 non-null   float64\n",
      " 4   5. volume  6272 non-null   float64\n",
      "dtypes: float64(5)\n",
      "memory usage: 294.0 KB\n"
     ]
    }
   ],
   "source": [
    "#taking a look into what the data contains of the AMD stock\n",
    "data.info()"
   ]
  },
  {
   "cell_type": "code",
   "execution_count": 6,
   "metadata": {},
   "outputs": [
    {
     "data": {
      "text/plain": [
       "{'1. Information': 'Daily Prices (open, high, low, close) and Volumes',\n",
       " '2. Symbol': 'AMD',\n",
       " '3. Last Refreshed': '2024-10-04',\n",
       " '4. Output Size': 'Full size',\n",
       " '5. Time Zone': 'US/Eastern'}"
      ]
     },
     "execution_count": 6,
     "metadata": {},
     "output_type": "execute_result"
    }
   ],
   "source": [
    "#Here we see the american stock markets opening times, if it runs on a monday before 15:xx, ideally we want it to run once the market closes friday and then again before makret opening a tuesday etc\n",
    "meta_data"
   ]
  },
  {
   "cell_type": "code",
   "execution_count": 7,
   "metadata": {},
   "outputs": [],
   "source": [
    "#Stock market:\n",
    "def today_is_a_business_day(today):\n",
    "    # Get the NYSE calendar\n",
    "    cal = mcal.get_calendar('NYSE')\n",
    "    schedule = cal.schedule(start_date=today, end_date=today) # Get the NYSE calendar's open and close times for the specified period\n",
    "    try:\n",
    "        isBusinessDay = schedule.market_open.dt.strftime('%Y-%m-%d')\n",
    "        return True\n",
    "    except:\n",
    "        print('Today {} is not a business day'.format(today))\n",
    "        return False"
   ]
  },
  {
   "cell_type": "code",
   "execution_count": 8,
   "metadata": {},
   "outputs": [],
   "source": [
    "#Defining a function to find the next business day\n",
    "def next_business_day(today):\n",
    "    \n",
    "    # Real tomorrow\n",
    "    tomorrow = (today + timedelta(days=1)).strftime(\"%Y-%m-%d\")\n",
    "    \n",
    "    # Get the NYSE calendar\n",
    "    cal = mcal.get_calendar('NYSE')\n",
    "\n",
    "    found_next_business_day = False \n",
    "    while not found_next_business_day:\n",
    "        schedule = cal.schedule(start_date=tomorrow, end_date=tomorrow) # Get the NYSE calendar's open and close times for the specified period\n",
    "        try:\n",
    "            isBusinessDay = schedule.market_open.dt.strftime('%Y-%m-%d') # Only need a list of dates when it's open (not open and close times)\n",
    "            found_next_business_day = True\n",
    "        except:\n",
    "            print('The date {} is not a business day'.format(tomorrow))\n",
    "            tomorrow = (datetime.datetime.strptime(tomorrow,\"%Y-%m-%d\") + timedelta(days=1)).strftime(\"%Y-%m-%d\")\n",
    "            \n",
    "    return isBusinessDay.to_numpy()[0]"
   ]
  },
  {
   "cell_type": "code",
   "execution_count": 18,
   "metadata": {},
   "outputs": [],
   "source": [
    "#Defining a function to extract business day\n",
    "def extract_business_day(start_date,end_date):\n",
    "    \"\"\"\n",
    "    Given a start_date and end_date.\n",
    "    \n",
    "    `Returns`:\n",
    "    \n",
    "    isBusinessDay: list of str (with all dates being business days)\n",
    "    is_open: boolean list\n",
    "        e.g is_open = [1,0,...,1] means that start_date = open, day after start_date = closed, and end_date = open\n",
    "    \"\"\"\n",
    "    \n",
    "    # Saving for later\n",
    "    end_date_save = end_date\n",
    "    \n",
    "    # Getting the NYSE calendar\n",
    "    cal = mcal.get_calendar('NYSE')\n",
    "\n",
    "    # Getting the NYSE calendar's open and close times for the specified period\n",
    "    schedule = cal.schedule(start_date=start_date, end_date=end_date)\n",
    "    \n",
    "    # Only need a list of dates when it's open (not open and close times)\n",
    "    isBusinessDay = np.array(schedule.market_open.dt.strftime('%Y-%m-%d')) \n",
    "    \n",
    "    # Going over all days: \n",
    "    delta = datetime.timedelta(days=1)\n",
    "    start_date = datetime.datetime.strptime(start_date,\"%Y-%m-%d\") #datetime.date(2020, 10, 4)\n",
    "    end_date = datetime.datetime.strptime(end_date,\"%Y-%m-%d\") #datetime.date(2024, 10, 4)\n",
    "    \n",
    "    # Extracting days from the timedelta object\n",
    "    num_days = (end_date - start_date).days + 1\n",
    "    \n",
    "    # Creating a boolean array for days being open (1) and closed (0) \n",
    "    is_open = np.zeros(num_days)\n",
    "    \n",
    "    # iterate over range of dates\n",
    "    current_BusinessDay = isBusinessDay[0]\n",
    "    count_dates = 0\n",
    "    next_BusinessDay = 0\n",
    "    \n",
    "    while (start_date <= end_date):\n",
    "    \n",
    "        if start_date.strftime('%Y-%m-%d') == current_BusinessDay:\n",
    "            is_open[count_dates] = True\n",
    "\n",
    "            if current_BusinessDay == end_date_save or current_BusinessDay==isBusinessDay[-1]:\n",
    "                break\n",
    "            else:\n",
    "                next_BusinessDay += 1\n",
    "                current_BusinessDay = isBusinessDay[next_BusinessDay]\n",
    "        else:\n",
    "            is_open[count_dates] = False\n",
    "\n",
    "        count_dates += 1   \n",
    "        start_date += delta\n",
    "        \n",
    "    print(np.shape(is_open))\n",
    "        \n",
    "    return isBusinessDay, is_open"
   ]
  },
  {
   "cell_type": "code",
   "execution_count": 19,
   "metadata": {},
   "outputs": [],
   "source": [
    "#Defining a function to clean the column names\n",
    "def clean_column_name(name):\n",
    "    # Remove all non-letter characters\n",
    "    cleaned_name = re.sub(r'[^a-zA-Z]', '', name)\n",
    "    return cleaned_name"
   ]
  },
  {
   "cell_type": "code",
   "execution_count": 20,
   "metadata": {},
   "outputs": [],
   "source": [
    "data.columns = [clean_column_name(col) for col in data.columns]"
   ]
  },
  {
   "cell_type": "code",
   "execution_count": 21,
   "metadata": {},
   "outputs": [
    {
     "data": {
      "text/html": [
       "<div>\n",
       "<style scoped>\n",
       "    .dataframe tbody tr th:only-of-type {\n",
       "        vertical-align: middle;\n",
       "    }\n",
       "\n",
       "    .dataframe tbody tr th {\n",
       "        vertical-align: top;\n",
       "    }\n",
       "\n",
       "    .dataframe thead th {\n",
       "        text-align: right;\n",
       "    }\n",
       "</style>\n",
       "<table border=\"1\" class=\"dataframe\">\n",
       "  <thead>\n",
       "    <tr style=\"text-align: right;\">\n",
       "      <th></th>\n",
       "      <th>date</th>\n",
       "      <th>open</th>\n",
       "      <th>high</th>\n",
       "      <th>low</th>\n",
       "      <th>close</th>\n",
       "      <th>volume</th>\n",
       "    </tr>\n",
       "  </thead>\n",
       "  <tbody>\n",
       "    <tr>\n",
       "      <th>0</th>\n",
       "      <td>2024-10-04</td>\n",
       "      <td>166.533</td>\n",
       "      <td>171.2100</td>\n",
       "      <td>164.4200</td>\n",
       "      <td>170.90</td>\n",
       "      <td>44640296.0</td>\n",
       "    </tr>\n",
       "    <tr>\n",
       "      <th>1</th>\n",
       "      <td>2024-10-03</td>\n",
       "      <td>159.710</td>\n",
       "      <td>166.7894</td>\n",
       "      <td>159.4000</td>\n",
       "      <td>162.85</td>\n",
       "      <td>29598787.0</td>\n",
       "    </tr>\n",
       "    <tr>\n",
       "      <th>2</th>\n",
       "      <td>2024-10-02</td>\n",
       "      <td>159.310</td>\n",
       "      <td>163.1000</td>\n",
       "      <td>158.6689</td>\n",
       "      <td>159.78</td>\n",
       "      <td>24630431.0</td>\n",
       "    </tr>\n",
       "    <tr>\n",
       "      <th>3</th>\n",
       "      <td>2024-10-01</td>\n",
       "      <td>164.480</td>\n",
       "      <td>165.4000</td>\n",
       "      <td>158.0800</td>\n",
       "      <td>159.75</td>\n",
       "      <td>31831860.0</td>\n",
       "    </tr>\n",
       "    <tr>\n",
       "      <th>4</th>\n",
       "      <td>2024-09-30</td>\n",
       "      <td>163.100</td>\n",
       "      <td>165.0800</td>\n",
       "      <td>162.1800</td>\n",
       "      <td>164.08</td>\n",
       "      <td>21920300.0</td>\n",
       "    </tr>\n",
       "  </tbody>\n",
       "</table>\n",
       "</div>"
      ],
      "text/plain": [
       "        date     open      high       low   close      volume\n",
       "0 2024-10-04  166.533  171.2100  164.4200  170.90  44640296.0\n",
       "1 2024-10-03  159.710  166.7894  159.4000  162.85  29598787.0\n",
       "2 2024-10-02  159.310  163.1000  158.6689  159.78  24630431.0\n",
       "3 2024-10-01  164.480  165.4000  158.0800  159.75  31831860.0\n",
       "4 2024-09-30  163.100  165.0800  162.1800  164.08  21920300.0"
      ]
     },
     "execution_count": 21,
     "metadata": {},
     "output_type": "execute_result"
    }
   ],
   "source": [
    "data.head()"
   ]
  },
  {
   "cell_type": "code",
   "execution_count": 22,
   "metadata": {},
   "outputs": [],
   "source": [
    "data.reset_index(inplace=True)"
   ]
  },
  {
   "cell_type": "code",
   "execution_count": 23,
   "metadata": {},
   "outputs": [],
   "source": [
    "# Define the date range we're interested in\n",
    "yesterday =datetime.now()-timedelta(days=1)\n",
    "two_years_back = yesterday - timedelta(days=729)"
   ]
  },
  {
   "cell_type": "code",
   "execution_count": 24,
   "metadata": {},
   "outputs": [],
   "source": [
    "# Filtering the DataFrame to this range\n",
    "filtered_df = data[(data['date'] >= two_years_back) & (data['date'] <= yesterday)]"
   ]
  },
  {
   "cell_type": "code",
   "execution_count": 26,
   "metadata": {},
   "outputs": [
    {
     "data": {
      "text/html": [
       "<div>\n",
       "<style scoped>\n",
       "    .dataframe tbody tr th:only-of-type {\n",
       "        vertical-align: middle;\n",
       "    }\n",
       "\n",
       "    .dataframe tbody tr th {\n",
       "        vertical-align: top;\n",
       "    }\n",
       "\n",
       "    .dataframe thead th {\n",
       "        text-align: right;\n",
       "    }\n",
       "</style>\n",
       "<table border=\"1\" class=\"dataframe\">\n",
       "  <thead>\n",
       "    <tr style=\"text-align: right;\">\n",
       "      <th></th>\n",
       "      <th>index</th>\n",
       "      <th>date</th>\n",
       "      <th>open</th>\n",
       "      <th>high</th>\n",
       "      <th>low</th>\n",
       "      <th>close</th>\n",
       "      <th>volume</th>\n",
       "    </tr>\n",
       "  </thead>\n",
       "  <tbody>\n",
       "    <tr>\n",
       "      <th>0</th>\n",
       "      <td>0</td>\n",
       "      <td>2024-10-04</td>\n",
       "      <td>166.533</td>\n",
       "      <td>171.2100</td>\n",
       "      <td>164.4200</td>\n",
       "      <td>170.90</td>\n",
       "      <td>44640296.0</td>\n",
       "    </tr>\n",
       "    <tr>\n",
       "      <th>1</th>\n",
       "      <td>1</td>\n",
       "      <td>2024-10-03</td>\n",
       "      <td>159.710</td>\n",
       "      <td>166.7894</td>\n",
       "      <td>159.4000</td>\n",
       "      <td>162.85</td>\n",
       "      <td>29598787.0</td>\n",
       "    </tr>\n",
       "    <tr>\n",
       "      <th>2</th>\n",
       "      <td>2</td>\n",
       "      <td>2024-10-02</td>\n",
       "      <td>159.310</td>\n",
       "      <td>163.1000</td>\n",
       "      <td>158.6689</td>\n",
       "      <td>159.78</td>\n",
       "      <td>24630431.0</td>\n",
       "    </tr>\n",
       "    <tr>\n",
       "      <th>3</th>\n",
       "      <td>3</td>\n",
       "      <td>2024-10-01</td>\n",
       "      <td>164.480</td>\n",
       "      <td>165.4000</td>\n",
       "      <td>158.0800</td>\n",
       "      <td>159.75</td>\n",
       "      <td>31831860.0</td>\n",
       "    </tr>\n",
       "    <tr>\n",
       "      <th>4</th>\n",
       "      <td>4</td>\n",
       "      <td>2024-09-30</td>\n",
       "      <td>163.100</td>\n",
       "      <td>165.0800</td>\n",
       "      <td>162.1800</td>\n",
       "      <td>164.08</td>\n",
       "      <td>21920300.0</td>\n",
       "    </tr>\n",
       "    <tr>\n",
       "      <th>5</th>\n",
       "      <td>5</td>\n",
       "      <td>2024-09-27</td>\n",
       "      <td>167.480</td>\n",
       "      <td>168.7286</td>\n",
       "      <td>163.7400</td>\n",
       "      <td>164.35</td>\n",
       "      <td>27876037.0</td>\n",
       "    </tr>\n",
       "    <tr>\n",
       "      <th>6</th>\n",
       "      <td>6</td>\n",
       "      <td>2024-09-26</td>\n",
       "      <td>167.055</td>\n",
       "      <td>168.6800</td>\n",
       "      <td>164.0500</td>\n",
       "      <td>167.49</td>\n",
       "      <td>38044919.0</td>\n",
       "    </tr>\n",
       "    <tr>\n",
       "      <th>7</th>\n",
       "      <td>7</td>\n",
       "      <td>2024-09-25</td>\n",
       "      <td>158.500</td>\n",
       "      <td>162.9500</td>\n",
       "      <td>158.1800</td>\n",
       "      <td>162.02</td>\n",
       "      <td>35233264.0</td>\n",
       "    </tr>\n",
       "    <tr>\n",
       "      <th>8</th>\n",
       "      <td>8</td>\n",
       "      <td>2024-09-24</td>\n",
       "      <td>157.460</td>\n",
       "      <td>159.6400</td>\n",
       "      <td>154.5800</td>\n",
       "      <td>158.32</td>\n",
       "      <td>27531200.0</td>\n",
       "    </tr>\n",
       "    <tr>\n",
       "      <th>9</th>\n",
       "      <td>9</td>\n",
       "      <td>2024-09-23</td>\n",
       "      <td>156.445</td>\n",
       "      <td>157.1900</td>\n",
       "      <td>154.9700</td>\n",
       "      <td>156.75</td>\n",
       "      <td>21728542.0</td>\n",
       "    </tr>\n",
       "  </tbody>\n",
       "</table>\n",
       "</div>"
      ],
      "text/plain": [
       "   index       date     open      high       low   close      volume\n",
       "0      0 2024-10-04  166.533  171.2100  164.4200  170.90  44640296.0\n",
       "1      1 2024-10-03  159.710  166.7894  159.4000  162.85  29598787.0\n",
       "2      2 2024-10-02  159.310  163.1000  158.6689  159.78  24630431.0\n",
       "3      3 2024-10-01  164.480  165.4000  158.0800  159.75  31831860.0\n",
       "4      4 2024-09-30  163.100  165.0800  162.1800  164.08  21920300.0\n",
       "5      5 2024-09-27  167.480  168.7286  163.7400  164.35  27876037.0\n",
       "6      6 2024-09-26  167.055  168.6800  164.0500  167.49  38044919.0\n",
       "7      7 2024-09-25  158.500  162.9500  158.1800  162.02  35233264.0\n",
       "8      8 2024-09-24  157.460  159.6400  154.5800  158.32  27531200.0\n",
       "9      9 2024-09-23  156.445  157.1900  154.9700  156.75  21728542.0"
      ]
     },
     "execution_count": 26,
     "metadata": {},
     "output_type": "execute_result"
    }
   ],
   "source": [
    "filtered_df.head(10)"
   ]
  },
  {
   "cell_type": "code",
   "execution_count": 27,
   "metadata": {},
   "outputs": [
    {
     "name": "stdout",
     "output_type": "stream",
     "text": [
      "2022-10-10 00:00:00\n",
      "2024-10-04 00:00:00\n"
     ]
    }
   ],
   "source": [
    "print(filtered_df['date'].min())\n",
    "print(filtered_df['date'].max())"
   ]
  },
  {
   "cell_type": "code",
   "execution_count": 28,
   "metadata": {},
   "outputs": [
    {
     "data": {
      "text/plain": [
       "(500, 7)"
      ]
     },
     "execution_count": 28,
     "metadata": {},
     "output_type": "execute_result"
    }
   ],
   "source": [
    "filtered_df.shape"
   ]
  }
 ],
 "metadata": {
  "kernelspec": {
   "display_name": "Python 3",
   "language": "python",
   "name": "python3"
  },
  "language_info": {
   "codemirror_mode": {
    "name": "ipython",
    "version": 3
   },
   "file_extension": ".py",
   "mimetype": "text/x-python",
   "name": "python",
   "nbconvert_exporter": "python",
   "pygments_lexer": "ipython3",
   "version": "3.12.7"
  }
 },
 "nbformat": 4,
 "nbformat_minor": 2
}
